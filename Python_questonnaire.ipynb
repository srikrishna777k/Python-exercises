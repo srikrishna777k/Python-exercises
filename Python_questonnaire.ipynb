{
 "cells": [
  {
   "cell_type": "markdown",
   "metadata": {
    "id": "VqWkfoZqEQyw"
   },
   "source": [
    "# 1] The Canteen Queue \n",
    "\n",
    "During recess time, the school children, boys and girls, formed a queue of n people in the canteen. Initially the children stood in the order they entered the canteen. However, after a while the boys started feeling awkward for standing in front of the girls in the queue and they started letting the girls move forward each second.\n",
    "\n",
    "Let's describe the process more precisely. Let's say that the positions in the queue are sequentially numbered by integers from 1 to n, and that the person in the position number 1 is served first. Then, if at time x a boy stands on the i-th position and a girl stands on the (i + 1)-th position, then at time x + 1 the i-th position will have a girl and the (i + 1)-th position will have a boy. The time is given in seconds.\n",
    "\n",
    "You've got the initial position of the children, at the initial moment of time. Determine the way the queue is going to look after t seconds.\n",
    "\n",
    "\n",
    "---\n",
    "\n",
    "\n",
    "## Input\n",
    "\n",
    "- The first line contains an integer t (t ≤ 50), which represents the time after which the queue will transform into the arrangement you need to find.\n",
    "\n",
    "- The next line contains string s, which represents the children's initial arrangement. If the i-th position in the queue contains a boy, then the i-th character of string s equals \"B\", otherwise the i-th character equals \"G\".\n",
    "\n",
    "## Output\n",
    "\n",
    "- Create and print a new string, which describes the arrangement after t seconds.\n",
    "\n",
    "## Example\n",
    "\n",
    "### Input\n",
    "Enter the time(s) after which you want to check the queue : 1 \n",
    "\n",
    "Enter the initial arrangement of students through a string : BGGBG\n",
    "\n",
    "### Output\n",
    "The queue inititally was : BGGBG\n",
    "\n",
    "The queue after 1 seconds will be : GBGGB"
   ]
  },
  {
   "cell_type": "code",
   "execution_count": null,
   "metadata": {
    "colab": {
     "base_uri": "https://localhost:8080/"
    },
    "id": "zxt14qs9EQy4",
    "outputId": "339a023a-8e8f-4e74-d5b2-9b6aedff81be"
   },
   "outputs": [
    {
     "name": "stdout",
     "output_type": "stream",
     "text": [
      "Enter the time(s) after which you want to check the queue : 1\n",
      "Enter the initial arrangement of students through a string : GGBGB\n",
      "\n",
      "The queue inititally was : GGBGB\n",
      "The queue after 1 seconds will be : GGGBB\n"
     ]
    }
   ],
   "source": [
    "# Extracting input\n",
    "seconds = input(\"Enter the time(s) after which you want to check the queue : \")\n",
    "y = int(seconds)\n",
    "string = input(\"Enter the initial arrangement of students through a string : \").upper()\n",
    "strq = string\n",
    "length = len(strq)\n",
    "\n",
    "# Forming a new string with modified arrangement\n",
    "while(y):\n",
    "    i = 0\n",
    "    newstr = \"\"\n",
    "    while(i < length):\n",
    "        if (strq[i:i+2] == 'BG'):\n",
    "            newstr += strq[i+1] + strq[i]\n",
    "            i += 2\n",
    "        else:\n",
    "            newstr += strq[i]\n",
    "            i += 1 \n",
    "    strq = newstr\n",
    "    y -= 1\n",
    "\n",
    "# Displaying output\n",
    "print(f'\\nThe queue inititally was : {string}')\n",
    "print(f'The queue after {seconds} seconds will be : {newstr}')\n"
   ]
  },
  {
   "cell_type": "markdown",
   "metadata": {
    "id": "fEJ2OqxyHzY4"
   },
   "source": [
    " # 2] Market Value of a Football Player\n",
    " \n",
    " - Assuming only goals and assists(pass before to the goal) being the metrics to decide the worth of football player.\n",
    " - To calculate the worth(transfer value) of a football player, goals scored will be multiplied by 1(mn) and assists by 0.5(mn).\n",
    " - Furthermore, we will divide the player into five categories - Legendary, World Class, Talented, Good, Amateur\n",
    " - Greater than 30mn - Legendary, 20-30mn - World Class, 10-20mn - Talented, 5-10mn - Good, less than 5mn - Amateur"
   ]
  },
  {
   "cell_type": "code",
   "execution_count": null,
   "metadata": {
    "colab": {
     "base_uri": "https://localhost:8080/"
    },
    "id": "-YjxvSXDHyVh",
    "outputId": "d6b297ac-7ac2-40cf-9ee5-bb32a54a9ba4"
   },
   "outputs": [
    {
     "name": "stdout",
     "output_type": "stream",
     "text": [
      "Enter the name of your player : Cristiano Ronaldo\n",
      "Enter the number of GOALS scored by your player : 27\n",
      "Enter the number of goals ASSISTED by your player : 8\n",
      "Cristiano Ronaldo is Legendary, his transfer value is $31.0mn. He has 27 goals and 8 assists.\n"
     ]
    }
   ],
   "source": [
    "name = input('Enter the name of your player : ')\n",
    "goals = int(input('Enter the number of GOALS scored by your player : '))\n",
    "assists = int(input('Enter the number of goals ASSISTED by your player : '))\n",
    "\n",
    "worth = goals*1 + assists*0.5\n",
    "\n",
    "if worth <= 5:\n",
    "    print('{} is an Amateur, his transfer value is ${}mn. He has {} goals and {} assists.'.format(name,worth,goals,assists))\n",
    "elif worth <= 10:\n",
    "    print('{} is Good, his transfer value is ${}mn. He has {} goals and {} assists.'.format(name,worth,goals,assists))\n",
    "elif worth <= 20:\n",
    "    print('{} is Talented, his transfer value is ${}mn. He has {} goals and {} assists.'.format(name,worth,goals,assists))\n",
    "elif worth <= 30:\n",
    "    print('{} is World Class, his transfer value is ${}mn. He has {} goals and {} assists.'.format(name,worth,goals,assists))\n",
    "else:\n",
    "    print('{} is Legendary, his transfer value is ${}mn. He has {} goals and {} assists.'.format(name,worth,goals,assists))"
   ]
  },
  {
   "cell_type": "markdown",
   "metadata": {
    "id": "ZEqwpaK4JyXa"
   },
   "source": [
    "# 3] Password Validation\n",
    "\n",
    "A website requires the users to input username and password to register. Write a program to check the validity of password input by users.\n",
    "Following are the criteria for checking the password:\n",
    "\n",
    "1. At least 1 letter between [A-Z]\n",
    "2. At least 1 number between [0-9] \n",
    "1. At least 1 letter between [a-z]  \n",
    "3. At least 1 character from [$#@]  \n",
    "4. Minimum length of transaction password: 6 \n",
    "5. Maximum length of transaction password: 12 \n",
    "\n",
    "Your program should accept a password from the user and check whether it is valid or not according to the above criteria. Repeat until a valid password is entered.\n"
   ]
  },
  {
   "cell_type": "code",
   "execution_count": null,
   "metadata": {
    "colab": {
     "base_uri": "https://localhost:8080/"
    },
    "id": "xxlz77_PH4yw",
    "outputId": "8b40921c-0acf-4025-f22f-8dc55a21a7c6"
   },
   "outputs": [
    {
     "name": "stdout",
     "output_type": "stream",
     "text": [
      "Enter a password to check for validity: 123@Abcd\n",
      "The password is valid\n"
     ]
    }
   ],
   "source": [
    "valid = False\n",
    "password = input(\"Enter a password to check for validity: \")\n",
    "\n",
    "while valid == False:\n",
    "  n = len(password)\n",
    "  a1 = a2 = a3 = a4 = a5 = 0\n",
    "\n",
    "  #Check for length of password\n",
    "  if n > 6 and n < 12:\n",
    "      a1 = a1 + 1\n",
    "\n",
    "  #Check for atleast one uppercase letter\n",
    "  for j in range(len(password)):\n",
    "      if password[j].isupper():\n",
    "          a2 = a2 + 1\n",
    "          break\n",
    "          \n",
    "  #Check for atleast one lowercase letter\n",
    "  for j in range(len(password)):\n",
    "      if password[j].islower():\n",
    "          a3 = a3 + 1\n",
    "          break\n",
    "          \n",
    "  #Check for atleast one number\n",
    "  for j in range(len(password)):\n",
    "      if password[j] in ['0','1','2','3','4','5','6','7','8','9']:\n",
    "          a4 = a4 + 1\n",
    "          break\n",
    "          \n",
    "  #Check for a special character\n",
    "  for j in range(len(password)):\n",
    "      if password[j] in ['$','#','@']:\n",
    "          a5 = a5 + 1\n",
    "          break\n",
    "          \n",
    "  #Check whether all conditions are met\n",
    "  if (a1==1 and a2==1 and a3==1 and a4==1 and a5 == 1):\n",
    "      valid = True\n",
    "      \n",
    "  if valid:\n",
    "      print(\"The password is valid\")\n",
    "  else:\n",
    "      print(\"The password is invalid.\")\n",
    "      password = input(\"\\nEnter another password: \")\n"
   ]
  },
  {
   "cell_type": "markdown",
   "metadata": {
    "id": "1Dlqk_U9a0tl"
   },
   "source": [
    "# 4] How Many Chocolates?\n",
    "\n",
    "Sanjay loves chocolates. He goes to a shop to buy his favourite chocolate. There he notices there is an offer going on, upon bringing 3 wrappers of the same chocolate, you will get new chocolate for free. If Sanjay has 'money' Rupees. How many chocolates will he be able to eat if each chocolate costs 'price' Rupees?\n",
    "\n",
    "----------------------------------------------------------------------\n",
    "## Input:\n",
    "Two positive integers money and price.\n",
    "\n",
    "## Output:\n",
    "A single integer denoting the number of chocolates Sanjay was able to eat in total."
   ]
  },
  {
   "cell_type": "code",
   "execution_count": null,
   "metadata": {
    "colab": {
     "base_uri": "https://localhost:8080/"
    },
    "id": "_yKg5ZW-KQPx",
    "outputId": "107b509d-80c7-46ad-a98e-94d5be55e0ec"
   },
   "outputs": [
    {
     "name": "stdout",
     "output_type": "stream",
     "text": [
      "Enter the money you want to give Sanjay : 15\n",
      "Enter the price of one chocolate : 2\n",
      "Sanjay will get 10 chocolates.\n"
     ]
    }
   ],
   "source": [
    "money = int(input('Enter the money you want to give Sanjay : '))\n",
    "price = int(input('Enter the price of one chocolate : '))\n",
    "\n",
    "if money > 0 and price > 0:\n",
    "  # // operator corresponds to floor division - it will return the integer part of the divisor\n",
    "  choc = counter = money//price\n",
    "\n",
    "  while (counter//3 != 0):\n",
    "      choc += counter//3\n",
    "      counter = counter//3 + counter%3\n",
    "\n",
    "\n",
    "\n",
    "  print('Sanjay will get {} chocolates.'.format(choc))\n",
    "else :\n",
    "  print('Invalid Input')"
   ]
  },
  {
   "cell_type": "markdown",
   "metadata": {
    "id": "ilFeS8kVO2qW"
   },
   "source": [
    "# 5] Ternary Number System\n",
    "\n",
    "If the Base value of a number system is 3, then this representation is known as a ternary representation. The digits in this system are 0, 1, and 2. \n",
    "So given an input number(integer) in decimal system, convert the same number to ternary number system.\n",
    "Convert the ternary number back to its decimal equivalent and check for a match.\n",
    "\n",
    "\n",
    "---\n",
    "\n",
    "\n",
    "<img src=\"https://media.geeksforgeeks.org/wp-content/uploads/20200420154903/DecimalToTernary-Page-1.png\" width=300 height=300 />\n",
    "<img src=\"https://media.geeksforgeeks.org/wp-content/uploads/20200420161705/DecimalToTernary-Page-2.png\" width=300 height=300 />\n"
   ]
  },
  {
   "cell_type": "code",
   "execution_count": null,
   "metadata": {
    "colab": {
     "base_uri": "https://localhost:8080/"
    },
    "id": "fzf65IqlO3Pe",
    "outputId": "7b229d64-1309-4955-c4c9-953038c5d206"
   },
   "outputs": [
    {
     "name": "stdout",
     "output_type": "stream",
     "text": [
      "Enter the integer in decimal number system : 120\n",
      "\n",
      "Match found. The logic works\n",
      "The ternary number equivalent of 120 is : 11110\n"
     ]
    }
   ],
   "source": [
    "# Extracting input\n",
    "decimal = int(input('Enter the integer in decimal number system : '))\n",
    "num = decimal\n",
    "ternary = \"\"\n",
    "\n",
    "# Logic to convert decimal to ternary\n",
    "while (num):\n",
    "    rem = num % 3\n",
    "    ternary += str(rem)\n",
    "    num //= 3\n",
    "    \n",
    "ternary = ternary[::-1]\n",
    "exp = len(ternary) - 1\n",
    "num = 0\n",
    "\n",
    "# Logic to convert ternary to decimal\n",
    "for i in ternary:\n",
    "    num += pow(3,exp)*int(i)\n",
    "    exp -= 1\n",
    "\n",
    "# Checking and displaying output\n",
    "match = False\n",
    "if (num == decimal):\n",
    "    print('\\nMatch found. The logic works')\n",
    "    print(f'The ternary number equivalent of {decimal} is : {ternary}')\n"
   ]
  },
  {
   "cell_type": "markdown",
   "metadata": {
    "id": "r8GNhaYDO4eY"
   },
   "source": [
    "# 6] The Alien Code\n",
    "\n",
    "You are a scientist at NASA. An Alien spacecraft is trying to communicate with you through alien code. You somehow figure out that they use ternary numbers(0, 1, 2) to communicate. The numbers are telegraphed as a special form of code, where Digit 0 is transmitted as \".\", 1 as \"-.\" and 2 as \"--\". \n",
    "So your task is to decode the alien code, i.e find out ternary number representation.\n",
    "\n",
    "\n",
    "---\n",
    "\n",
    "\n",
    "## Input\n",
    "\n",
    "- The first line contains a number in Alien code. It's guaranteed that the given string is a valid Borze code of some ternary number.\n",
    "\n",
    "\n",
    "## Output\n",
    "\n",
    "- Output the decoded ternary number.\n",
    "\n",
    "\n",
    "## Example\n",
    "\n",
    "### Input\n",
    "What's the Alien code? : .-.--\n",
    "\n",
    "### Output\n",
    "The decode message is : 012"
   ]
  },
  {
   "cell_type": "code",
   "execution_count": null,
   "metadata": {
    "colab": {
     "base_uri": "https://localhost:8080/"
    },
    "id": "6BvF4wDfO4uJ",
    "outputId": "6fe3f3cc-6c23-456e-c23a-5446ab606897"
   },
   "outputs": [
    {
     "name": "stdout",
     "output_type": "stream",
     "text": [
      "What's the Alien code? : .-..-.--\n",
      "\n",
      "The message .-..-.-- is decoded as 01012\n"
     ]
    }
   ],
   "source": [
    "# Extracting input\n",
    "alien_code = input(\"What's the Alien code? : \")\n",
    "length = len(alien_code)\n",
    "decoded_msg = ''\n",
    "\n",
    "# Checking for valid input\n",
    "inputCheck = True\n",
    "if ('.' not in alien_code and '-.' not in alien_code and '--' not in alien_code):\n",
    "    inputCheck = False\n",
    "\n",
    "# Logic for decoding & displaying message\n",
    "if (inputCheck):\n",
    "    i = 0\n",
    "    while (i < length):\n",
    "        if (alien_code[i:i+2] == '-.'):\n",
    "            decoded_msg += '1'\n",
    "            i += 2\n",
    "        elif (alien_code[i:i+2] == '--'):\n",
    "            decoded_msg += '2'\n",
    "            i += 2\n",
    "        elif (alien_code[i] == '.'):\n",
    "            decoded_msg += '0'\n",
    "            i += 1\n",
    "    print(f'\\nThe message {alien_code} is decoded as {decoded_msg}')\n",
    "else:\n",
    "    print('\\nIncorrect code format, please check')\n",
    "\n"
   ]
  },
  {
   "cell_type": "markdown",
   "metadata": {
    "id": "B_L7WrLrlF6H"
   },
   "source": [
    "# 7] Number of partitions\n",
    "\n",
    "You've got array a[1], a[2], ..., a[n], consisting of n integers. Count the number of ways to split all the elements of the array into three contiguous parts so that the sum of elements in each part is the same.\n",
    "More formally, you need to find the number of such pairs of indices i, j (2 ≤ i ≤ j ≤ n - 1), that : <img src=\"https://espresso.codeforces.com/669a2f09a3b9e143f54b1f1d9fd6b7dddf403680.png\" width=300 height=100 />\n",
    "\n",
    "Try to provide 2 types of solutions, one in a generic(nested) method and an optimized solution without nested loops.\n",
    "\n",
    "\n",
    "---\n",
    "\n",
    "\n",
    "## Input\n",
    "\n",
    "- The first line contains n integers a[1], a[2], ..., a[n] — the elements of array. (seperated by commas, no space)\n",
    "\n",
    "\n",
    "## Output\n",
    "\n",
    "- Print a single integer — the number of ways to split the array into three parts with the same sum.\n",
    "\n",
    "## Example\n",
    "\n",
    "### Input\n",
    "Enter the elements of list seperated by comma(no spaces) : 1,2,3,0,3\n",
    "\n",
    "### Output\n",
    "The number of ways to split the list into 3 equal sums : 2"
   ]
  },
  {
   "cell_type": "code",
   "execution_count": null,
   "metadata": {
    "colab": {
     "base_uri": "https://localhost:8080/"
    },
    "id": "KO6YgDUNlGWo",
    "outputId": "6faca740-9a84-4414-c2c1-905003832f44"
   },
   "outputs": [
    {
     "name": "stdout",
     "output_type": "stream",
     "text": [
      "Enter the elements of list seperated by comma(no spaces) : 1,2,3,0,3\n",
      "\n",
      "The number of ways to split the list into 3 equal sums : 2\n"
     ]
    }
   ],
   "source": [
    "# Extracting input\n",
    "array = input('Enter the elements of list seperated by comma(no spaces) : ')\n",
    "array = array.split(',')\n",
    "array = [int(i) for i in array]\n",
    "\n",
    "# Checking for base condition\n",
    "sums = sum(array)%3\n",
    "check = (not sums) and len(array)>=3\n",
    "\n",
    "# Solution method 1 (layman, nested loop)\n",
    "count = 0\n",
    "if (check):\n",
    "    total = sum(array)/3\n",
    "    sum1 = 0\n",
    "    for i in range(0,len(array)-2):\n",
    "        sum1 += array[i]\n",
    "        if (sum1 == total):\n",
    "            sum2 = 0\n",
    "            for j in range(i+1,len(array)-1):\n",
    "                sum2 += array[j]\n",
    "                if (sum2 == total):\n",
    "                    count += 1 \n",
    "# count represents the solution of method 1\n",
    "\n",
    "# Solution method 2 (optimized)\n",
    "if (check):\n",
    "    count1 = 0\n",
    "    count2 = 0\n",
    "    s1 = 0\n",
    "    for i in range(0,len(array)-1):\n",
    "        s1 += array[i]\n",
    "        if(s1 == 2*sum(array)/3):\n",
    "            count2 += count1\n",
    "        if(s1 == sum(array)/3):\n",
    "            count1 += 1\n",
    "    print(f'\\nThe number of ways to split the list into 3 equal sums : {count2}')\n",
    "else:\n",
    "    print('\\nBase condition failed. List can not be partitioned.')\n"
   ]
  },
  {
   "cell_type": "markdown",
   "metadata": {
    "id": "rL-uBGHFvOqM"
   },
   "source": [
    "# 8] The Anagram code\n",
    "\n",
    "Two strings are said to be anagram,\n",
    "If we can form one string by arranging the characters of another string.\n",
    "Check if two given strings are anagrams to each other\n",
    "\n",
    "---\n",
    "\n",
    "## Input\n",
    "- Two Strings are added\n",
    "\n",
    "## Output\n",
    "- Output is to check if the two strings are anagrams\n",
    "\n",
    "## Example\n",
    "\n",
    "## Input\n",
    "- String 1 is Race and String 2 is Care\n",
    "\n",
    "## Output\n",
    "- The string 1 and string 2 are Anagram"
   ]
  },
  {
   "cell_type": "code",
   "execution_count": null,
   "metadata": {
    "colab": {
     "base_uri": "https://localhost:8080/"
    },
    "id": "shqV2lwhxI8H",
    "outputId": "99ad5cf5-df9e-43c2-9459-7d375a0200ae"
   },
   "outputs": [
    {
     "name": "stdout",
     "output_type": "stream",
     "text": [
      "Enter String 1: race\n",
      "Enter String 2: care\n",
      "race and care are anagram.\n"
     ]
    }
   ],
   "source": [
    "str1 = str(input(\"Enter String 1: \"))\n",
    "str2 = str(input(\"Enter String 2: \"))\n",
    "\n",
    "# convert both the strings into lowercase\n",
    "str1 = str1.lower()\n",
    "str2 = str2.lower()\n",
    "\n",
    "# check if length is same\n",
    "lenstr1=len(str1)\n",
    "lenstr2=len(str2)\n",
    "if(lenstr1 == lenstr2):\n",
    "    found=0\n",
    "    notfound=0\n",
    "    for i in range (lenstr1):\n",
    "        found=0\n",
    "        for j in range (lenstr2):\n",
    "            if str1[i]==str2[j]:\n",
    "                found = 1\n",
    "                break\n",
    "        if found == 0:\n",
    "            notfound = 1\n",
    "            break       \n",
    "    if notfound ==1:\n",
    "        print(str1 + \" and \" + str2 + \" are not anagram.\")\n",
    "    else:\n",
    "        print(str1 + \" and \" + str2 + \" are anagram.\")\n",
    "\n",
    "else:\n",
    "    print(str1 + \" and \" + str2 + \" are not anagram.\")\n",
    "    "
   ]
  },
  {
   "cell_type": "markdown",
   "metadata": {
    "id": "Wqw51VMWxkuh"
   },
   "source": [
    "# 9] EMI and Intrest calculation\n",
    "\n",
    "Calculate monthly EMI and total intrest paid for home loan, if the loan amount, loan duration and Annual intrest information is available.\n",
    "\n",
    "---\n",
    "\n",
    "## Input\n",
    "- The loan amount\n",
    "- The intrest rate per annum\n",
    "- Loan duartion in months\n",
    "\n",
    "\n",
    "## Output\n",
    "-Output is total intrest paid and EMI per month for Loan duration in months\n",
    "\n",
    "\n",
    "## Example\n",
    "\n",
    "## Input\n",
    "- The loan amount - 5000000\n",
    "- The intrest rate per annum - 0.075\n",
    "- Loan duration in months - 180\n",
    "\n",
    "## Output\n",
    "- EMI - 46350\n",
    "- Intrest paid - 3343000"
   ]
  },
  {
   "cell_type": "code",
   "execution_count": null,
   "metadata": {
    "colab": {
     "base_uri": "https://localhost:8080/"
    },
    "id": "PBZqbiHrv9BL",
    "outputId": "49e93e29-92f5-45cf-b123-c068c12d85f6"
   },
   "outputs": [
    {
     "name": "stdout",
     "output_type": "stream",
     "text": [
      "Enter principal amount: 5000000\n",
      "Enter annual interest rate: 0.7\n",
      "Enter number of months: 180\n",
      "Monthly EMI =  291677\n",
      "Intrest paid=  47501860\n"
     ]
    }
   ],
   "source": [
    "# EMI Formula = p * r * (1+r)^n/((1+r)^n-1)\n",
    "# Varaible name details:\n",
    "# p = Principal or Loan Amount\n",
    "# r = Interest Rate Per Month\n",
    "# n = Number of monthly installments\n",
    "\n",
    "p = float(input(\"Enter principal amount: \"))\n",
    "R = float(input(\"Enter annual interest rate: \"))\n",
    "n = int(input(\"Enter number of months: \" ))\n",
    "\n",
    "# Calculating interest rate per month\n",
    "r = R/12\n",
    "\n",
    "# Calculating EMI\n",
    "c=(1+r)\n",
    "a = p * r * (c**n)\n",
    "b=((c**n) - 1)\n",
    "emi=int(a/b)\n",
    "Intrest=int((emi*n)-p)\n",
    "\n",
    "print(\"Monthly EMI = \", emi)\n",
    "print(\"Intrest paid= \", Intrest)"
   ]
  },
  {
   "cell_type": "markdown",
   "metadata": {
    "id": "4Ra1GM6m1VGo"
   },
   "source": [
    "# 10] Game of \"Rock paper and Scissors\"\n",
    "\n",
    "\"Rock, Paper, Scissors\" is used as a way of coming to decisions.The rules require that competing players choose one of three shapes simulataneously.The person that plays the strongest “object” is the winner of the game.\n",
    "\n",
    "Team India and Team Pakistan are using this method to decide who will bat first in a cricket match.Consider,inputs are taken simultaneously from each team, without sharing within them. Decide who will bat first.\n",
    "\n",
    "---\n",
    "\n",
    "# Input\n",
    "- One of the three shapes from Rock , paper and Scissors is choosen by each team.\n",
    "\n",
    "# Output\n",
    "- The team with strongest \"Object\" will win.\n",
    "\n",
    "# Example\n",
    "\n",
    "# Input\n",
    "- Team India Chooses Rock\n",
    "- Team Pakistan chooses Scissors\n",
    "\n",
    "# Output\n",
    "- Team India will bat first for the match!"
   ]
  },
  {
   "cell_type": "code",
   "execution_count": null,
   "metadata": {
    "colab": {
     "base_uri": "https://localhost:8080/"
    },
    "id": "mFTmJEupELTq",
    "outputId": "e3f60acf-f605-4270-8dc6-47ddf823b437"
   },
   "outputs": [
    {
     "name": "stdout",
     "output_type": "stream",
     "text": [
      "The Team India chooses from Rock/Paper/Scissors: Rock\n",
      "The Team Pakistan chooses from Rock/Paper/Scissors: Scissors\n",
      "Team India will be Batting first today!\n"
     ]
    }
   ],
   "source": [
    "\n",
    "a= \"Rock\"\n",
    "b= \"Paper\"\n",
    "c= \"Scissors\"\n",
    "\n",
    "#Take inputs from both team\n",
    "Str1 = input (\"The Team India chooses from Rock/Paper/Scissors: \")\n",
    "Str2 = input (\"The Team Pakistan chooses from Rock/Paper/Scissors: \")\n",
    "\n",
    "#Decide the strongest object\n",
    "if Str1 == Str2:\n",
    "    print(\"The game is tied, please try again!\")\n",
    "D = Str1+Str2\n",
    "\n",
    "if D==a+b or D==b+a:\n",
    "    if Str2 == b:\n",
    "        print (\"Team Pakistan will be Batting first today!\")\n",
    "    else:\n",
    "        print(\"Team India will be Batting first today!\")\n",
    "elif D==a+c or D==c+a:\n",
    "    if Str2 == a:\n",
    "        print (\"Team Pakistan will be Batting first today!\")\n",
    "    else:\n",
    "        print(\"Team India will be Batting first today!\")\n",
    "elif D==b+c or D==c+b:\n",
    "    if Str2 == c:\n",
    "        print (\"Team Pakistan will be Batting first today\")\n",
    "    else:\n",
    "        print(\"Team India will be Batting first today\")"
   ]
  },
  {
   "cell_type": "markdown",
   "metadata": {
    "id": "m6KSAzrJCHyD"
   },
   "source": [
    "# 11] Similar pairs\n",
    "\n",
    "We call two numbers x and y similar if they have the same parity (the same remainder when divided by 2), or if |x−y|=1. For example, in each of the pairs (2,6), (4,3), (11,7), the numbers are similar to each other, and in the pairs (1,4), (3,12), they are not.\n",
    "\n",
    "You are given an array a of n (n is even) positive integers. Check if there is such a partition of the array into pairs that each element of the array belongs to exactly one pair and the numbers in each pair are similar to each other.\n",
    "\n",
    "For example, for the array a=[11,14,16,12], there is a partition into pairs (11,12) and (14,16). The numbers in the first pair are similar because they differ by one, and in the second pair because they are both even.\n",
    "\n",
    "\n",
    "---\n",
    "\n",
    "\n",
    "## Input\n",
    "\n",
    "- The first line contains a single integer t (1≤t≤1000) — the number of test cases. Then t test cases follow.\n",
    "\n",
    "- Each test case consists of 1 line of array of +ve integers seperated by commas(no spaces).\n",
    "\n",
    "## Output\n",
    "\n",
    "- For each test case print: YES if the such a partition exists, NO otherwise.\n",
    "\n",
    "## Example\n",
    "\n",
    "### Input\n",
    "Enter the number of test cases : 2\n",
    "\n",
    "Enter list number 1 : 11,14,16,12\n",
    "\n",
    "Enter list number 2 : 1,8\n",
    "\n",
    "### Output\n",
    "test case 1 : YES\n",
    "\n",
    "test case 2 : NO"
   ]
  },
  {
   "cell_type": "code",
   "execution_count": null,
   "metadata": {
    "colab": {
     "base_uri": "https://localhost:8080/"
    },
    "id": "r1d7QW7-CIWT",
    "outputId": "a3224c2b-bcd5-4438-8639-f194ae1f565a"
   },
   "outputs": [
    {
     "name": "stdout",
     "output_type": "stream",
     "text": [
      "Enter the number of test cases : 2\n",
      "Enter the list of +ve integers seperated by commas(test case 1) : 11,14,16,12\n",
      "Enter the list of +ve integers seperated by commas(test case 2) : 1,8\n",
      "Test case 1 : YES\n",
      "Test case 2 : NO\n"
     ]
    }
   ],
   "source": [
    "# Extracting inputs\n",
    "n = int(input('Enter the number of test cases : '))\n",
    "array = [0]*n\n",
    "for i in range(n):\n",
    "    input_arr = input(f'Enter the list of +ve integers seperated by commas(test case {i+1}) : ')\n",
    "    input_arr = input_arr.split(',')\n",
    "    array[i] = [int(i) for i in input_arr]\n",
    "\n",
    "# Looping through array of lists for similar pairs\n",
    "for index in range(n):\n",
    "    i = array[index]\n",
    "    flag = False\n",
    "    for j in range(0,len(i)-1):\n",
    "        for k in range(j+1,len(i)):\n",
    "            if (abs(i[j]-i[k]) == 1 or i[j]%2 == i[k]%2):\n",
    "                flag = True\n",
    "                break\n",
    "        if flag: break\n",
    "    if (flag): \n",
    "        print(f'Test case {index+1} : YES')\n",
    "    else:\n",
    "        print(f'Test case {index+1} : NO')\n",
    "        "
   ]
  },
  {
   "cell_type": "markdown",
   "metadata": {
    "id": "itk3emNMhwnT"
   },
   "source": [
    "# 12] Product of 3 Numbers\n",
    "\n",
    "You are given one integer number n. Find three distinct integers a,b,c such that 2≤a,b,c and a⋅b⋅c=n or say that it is impossible to do it. If there are several answers, you can print any.\n",
    "You have to answer t independent test cases.\n",
    "\n",
    "\n",
    "---\n",
    "\n",
    "\n",
    "## Input\n",
    "\n",
    "- The first line of the input contains one integer t (1≤t≤100) — the number of test cases.\n",
    "\n",
    "- The next n lines describe test cases. The i-th test case is given on a new line as one integer n.\n",
    "\n",
    "## Output\n",
    "\n",
    "- For each test case, print the answer on it. Print \"NO\" if it is impossible to represent n as a⋅b⋅c for some distinct integers a,b,c such that 2≤a,b,c.\n",
    "\n",
    "Otherwise, print \"YES\" and any possible such representation.\n",
    "\n",
    "## Example\n",
    "\n",
    "### Input\n",
    "Enter the number of test cases : 2\n",
    "\n",
    "Enter integer 1 : 64\n",
    "\n",
    "Enter integer 2 : 32\n",
    "\n",
    "### Output\n",
    "test case 1 : YES, (2,4,8)\n",
    "\n",
    "test case 2 : NO"
   ]
  },
  {
   "cell_type": "code",
   "execution_count": null,
   "metadata": {
    "colab": {
     "base_uri": "https://localhost:8080/"
    },
    "id": "LgJPNo76hw6v",
    "outputId": "2e7de8ae-0c51-46d6-a579-25f8e821d7eb"
   },
   "outputs": [
    {
     "name": "stdout",
     "output_type": "stream",
     "text": [
      "Enter the number of test cases : 2\n",
      "Enter integer 1 : 64\n",
      "Enter integer 2 : 32\n",
      "test case 1 : YES, (2, 4, 8)\n",
      "test case 2 : NO\n"
     ]
    }
   ],
   "source": [
    "# Extracting inputs\n",
    "n = int(input('Enter the number of test cases : '))\n",
    "array = [0]*n\n",
    "for i in range(n):\n",
    "    intg = int(input(f'Enter integer {i+1} : '))\n",
    "    array[i] = intg\n",
    "\n",
    "# Finding 3 distinct nos\n",
    "for index in range(len(array)):\n",
    "    i = array[index]\n",
    "    flag = False\n",
    "    for j in range(2,int(i**0.5)):\n",
    "        if (i%j == 0):\n",
    "            d = i/j\n",
    "            for k in range(j+1,int(d**0.5)):\n",
    "                if (d%k == 0):\n",
    "                    flag = True\n",
    "                    print(f'test case {index+1} : YES, {j,k,int(d/k)}')\n",
    "                    break\n",
    "        if flag: break\n",
    "    if (not flag): \n",
    "        print(f'test case {index+1} : NO') "
   ]
  },
  {
   "cell_type": "markdown",
   "metadata": {
    "id": "qC3dOnlSHj6i"
   },
   "source": [
    "# 13] Odd/Even Increment\n",
    "\n",
    "Given an array a=[a1,a2,…,an] of n positive integers, you can do operations of two types on it:\n",
    "\n",
    "- Add 1 to every element with an odd index. \n",
    "- Add 1 to every element with an even index. \n",
    "\n",
    "Determine if after any number of operations it is possible to make the final array contain only even numbers or only odd numbers. In other words, determine if you can make all elements of the array have the same parity after any number of operations.\n",
    "\n",
    "Note that you can do operations of both types any number of times (even none). Operations of different types can be performed a different number of times.\n",
    "\n",
    "\n",
    "---\n",
    "\n",
    "\n",
    "## Input\n",
    "\n",
    "- The first line contains an integer t (1≤t≤100) — the number of test cases.\n",
    "\n",
    "- The next n lines of each test case contains n integers — the elements of the array.\n",
    "\n",
    "## Output\n",
    "\n",
    "- Output t lines, each of which contains the answer to the corresponding test case. As an answer, output \"YES\" if after any number of operations it is possible to make the final array contain only even numbers or only odd numbers, and \"NO\" otherwise.\n",
    "\n",
    "## Example\n",
    "\n",
    "### Input\n",
    "Enter the number of test cases : 2\n",
    "\n",
    "Enter list 1 : 1,2,1\n",
    "\n",
    "Enter list 2 : 2,2,2,3\n",
    "\n",
    "### Output\n",
    "test case 1 : YES\n",
    "\n",
    "test case 2 : NO\n"
   ]
  },
  {
   "cell_type": "code",
   "execution_count": null,
   "metadata": {
    "colab": {
     "base_uri": "https://localhost:8080/"
    },
    "id": "twofjXhcHkLy",
    "outputId": "f3d071b4-dcf1-43a2-d74b-4c62bdfd35d9"
   },
   "outputs": [
    {
     "name": "stdout",
     "output_type": "stream",
     "text": [
      "Enter the number of test cases : 2\n",
      "Enter the list of +ve integers seperated by commas(test case 1) : 1,2,1\n",
      "Enter the list of +ve integers seperated by commas(test case 2) : 2,2,2,3\n",
      "Test case 1 : YES\n",
      "Test case 2 : NO\n"
     ]
    }
   ],
   "source": [
    "# Extracting inputs\n",
    "n = int(input('Enter the number of test cases : '))\n",
    "array = [0]*n\n",
    "for i in range(n):\n",
    "    input_arr = input(f'Enter the list of +ve integers seperated by commas(test case {i+1}) : ')\n",
    "    input_arr = input_arr.split(',')\n",
    "    array[i] = [int(i) for i in input_arr]\n",
    "\n",
    "# Checking if test cases have same parity\n",
    "for index in range(len(array)):\n",
    "    i = array[index]\n",
    "    flag = True\n",
    "    for j in range(len(i)-2):\n",
    "        if (i[j]%2 != i[j+2]%2):\n",
    "            flag = False\n",
    "            break\n",
    "    if flag: print(f'Test case {index+1} : YES')\n",
    "    else: print(f'Test case {index+1} : NO')\n",
    "        "
   ]
  },
  {
   "cell_type": "markdown",
   "metadata": {
    "id": "_ngJgMjxz5r-"
   },
   "source": [
    "# 14] File handling (write & read) \n",
    "\n",
    "Write a program to write a file 'Content.txt'. Ask the user for number of lines and text for input into the file.\n",
    "   - Open the file for read and count the total number of upper case, lower case, and digits used in the text file."
   ]
  },
  {
   "cell_type": "code",
   "execution_count": null,
   "metadata": {
    "colab": {
     "base_uri": "https://localhost:8080/"
    },
    "id": "Bf739_dvz6DB",
    "outputId": "8442ab87-ae3c-4d67-d688-d622c6c8c78d"
   },
   "outputs": [
    {
     "name": "stdout",
     "output_type": "stream",
     "text": [
      "Enter the number of test cases : 1\n",
      "Enter line 1 : heeel ff\n",
      "\n",
      "Number of Upper-case characters : 0\n",
      "Number of Lower-case characters : 7\n",
      "Number of digitS : 0\n"
     ]
    }
   ],
   "source": [
    "# Extracting inputs\n",
    "n = int(input('Enter the number of test cases : '))\n",
    "array = [0]*n\n",
    "for i in range(n):\n",
    "    input_arr = input(f'Enter line {i+1} : ')\n",
    "    array[i] = input_arr\n",
    "\n",
    "# Creating file with content\n",
    "Content = open('Content.txt','w')\n",
    "for i in array:\n",
    "    Content.write(i+'\\n')\n",
    "Content.close()\n",
    "\n",
    "# Reading file\n",
    "Content = open('Content.txt','r')\n",
    "countUpper = countLower = countDigit = 0\n",
    "\n",
    "for i in Content:\n",
    "    for j in i:\n",
    "        if (j.isupper()): countUpper += 1\n",
    "        elif (j.islower()): countLower += 1\n",
    "        elif (j.isdigit()): countDigit += 1\n",
    "Content.close()\n",
    "\n",
    "print (f'\\nNumber of Upper-case characters : {countUpper}')\n",
    "print (f'Number of Lower-case characters : {countLower}')\n",
    "print (f'Number of digitS : {countDigit}')"
   ]
  },
  {
   "cell_type": "markdown",
   "metadata": {
    "id": "Qfg6l9K22GQc"
   },
   "source": [
    "# 15] File handling (replace) \n",
    "\n",
    "Madhavi has used a text editing software to type some text. After saving the article as 'words.txt', she realised that she has wrongly typed alphabet 'J' in place of alphabet 'I' everywhere in the article.\n",
    "Write a program that would replace & display the text with the corrected version of entire content of the file 'words.txt' with all the alphabets 'J' to be displayed as an alphabet 'I' on screen.\n",
    "Note: Assuming that words.txt does not contain any 'J' alphabet otherwise.\n",
    "\n",
    "- Consider the following 2 lines as text. Create the file 'words.txt' with the below content. Then proceed with the required correction.\n",
    "\n",
    "WELL, THJS JS A WORD BY JTSELF.\n",
    "\n",
    "YOU COULD STRETCH THJS TO BE A SENTENCE"
   ]
  },
  {
   "cell_type": "code",
   "execution_count": null,
   "metadata": {
    "colab": {
     "base_uri": "https://localhost:8080/"
    },
    "id": "WAMsGb912GwC",
    "outputId": "dca74978-3ba4-4379-c4df-35be5025006d"
   },
   "outputs": [
    {
     "name": "stdout",
     "output_type": "stream",
     "text": [
      "The content before correction is as displayed below :\n",
      "WELL, THJS JS A WORD BY JTSELF.\n",
      "YOU COULD STRETCH THJS TO BE A SENTENCE\n",
      "\n",
      "The content has been corrected as displayed below :\n",
      "WELL, THIS IS A WORD BY ITSELF.\n",
      "YOU COULD STRETCH THIS TO BE A SENTENCE\n"
     ]
    }
   ],
   "source": [
    "# Creating file with the incorrect content\n",
    "preContent = 'WELL, THJS JS A WORD BY JTSELF.\\nYOU COULD STRETCH THJS TO BE A SENTENCE'\n",
    "words = open('words.txt','w')\n",
    "words.write(preContent)\n",
    "words.close()\n",
    "\n",
    "print('The content before correction is as displayed below :')\n",
    "print(preContent)\n",
    "\n",
    "words = open('words.txt','r')\n",
    "newContent = ''\n",
    "for i in words:\n",
    "    for j in i:\n",
    "        if (j.upper() == 'J'):\n",
    "            newContent += 'I'\n",
    "        else:\n",
    "            newContent += j\n",
    "words.close()\n",
    "\n",
    "words = open('words.txt','w')\n",
    "words.write(newContent)\n",
    "words.close()\n",
    "\n",
    "print('\\nThe content has been corrected as displayed below :')\n",
    "words = open('words.txt','r')\n",
    "print(words.read())\n",
    "words.close()\n"
   ]
  },
  {
   "cell_type": "markdown",
   "metadata": {
    "id": "TbSbn2DgtKpJ"
   },
   "source": [
    "# 16] Selection Sort\n",
    "\n",
    "During our dsalgo classes, we had covered various types of sorting techniques ranging from selection to quick sort.\n",
    "Did you know? : Python's inbuilt sort() function uses a technique called Tim sort, which is a hybrid of merge and insertion sort.\n",
    "\n",
    "So before we try to solve some of the advanced and efficient techniques, let's have a look at one of the less efficient techniques in selection sort, which is comparable in performance to insertion and bubble sort.\n",
    "Using the concepts learnt in class, let's try to get a feel of the logic using code.\n",
    "Below is attached a pictorial description of the concept:\n",
    "\n",
    "<img src=\"https://he-s3.s3.amazonaws.com/media/uploads/2888f5b.png\" width=700 height=700 />\n"
   ]
  },
  {
   "cell_type": "code",
   "execution_count": null,
   "metadata": {
    "colab": {
     "base_uri": "https://localhost:8080/"
    },
    "id": "Jc5dEwWptK6d",
    "outputId": "c259c726-8ea3-42b1-c2d8-be4dca6f78bb"
   },
   "outputs": [
    {
     "name": "stdout",
     "output_type": "stream",
     "text": [
      "Enter the list : 3,2,5,1\n",
      "Ordered list : [1, 2, 3, 5]\n"
     ]
    }
   ],
   "source": [
    "# Extracting input\n",
    "input_arr = input('Enter the list : ')\n",
    "input_arr = input_arr.split(',')\n",
    "array = [int(i) for i in input_arr]\n",
    "\n",
    "# Selection sort\n",
    "for i in range(len(array)-1):\n",
    "    low = i\n",
    "    for j in range(i+1,len(array)):\n",
    "        if (array[j]<array[low]):\n",
    "            low = j\n",
    "    tmp = array[i]\n",
    "    array[i] = array[low]\n",
    "    array[low] = tmp\n",
    "\n",
    "print(f'Ordered list : {array}')"
   ]
  },
  {
   "cell_type": "markdown",
   "metadata": {
    "id": "D-zSVPqAtYvv"
   },
   "source": [
    "# 17] Bubble Sort\n",
    "\n",
    "During our dsalgo classes, we had covered various types of sorting techniques ranging from selection to quick sort.\n",
    "Did you know? : Python's inbuilt sort() function uses a technique called Tim sort, which is a hybrid of merge and insertion sort.\n",
    "\n",
    "So before we try to solve some of the advanced and efficient techniques, let's have a look at one of the less efficient techniques in bubble sort, which is comparable in performance to selection and insertion sort.\n",
    "Using the concepts learnt in class, let's try to get a feel of the logic using code.\n",
    "Below is attached a pictorial description of the concept:\n",
    "\n",
    "<img src=\"https://res.cloudinary.com/practicaldev/image/fetch/s--AXL0Lmqr--/c_imagga_scale,f_auto,fl_progressive,h_900,q_auto,w_1600/https://miro.medium.com/max/388/1%2A7QsZkfrRGhAu5yxxeDdzsA.png\" width=700 height=700 />\n"
   ]
  },
  {
   "cell_type": "code",
   "execution_count": null,
   "metadata": {
    "colab": {
     "base_uri": "https://localhost:8080/"
    },
    "id": "yBm1uuOFtY_p",
    "outputId": "bb0868cb-1a5b-4b94-a5f3-85d2136a1aad"
   },
   "outputs": [
    {
     "name": "stdout",
     "output_type": "stream",
     "text": [
      "Enter the list : 4,5,1,2\n",
      "Ordered list : [1, 2, 4, 5]\n"
     ]
    }
   ],
   "source": [
    "# Extracting input\n",
    "input_arr = input('Enter the list : ')\n",
    "input_arr = input_arr.split(',')\n",
    "array = [int(i) for i in input_arr]\n",
    "\n",
    "# Bubble sort\n",
    "for i in range(len(array)-1):\n",
    "    noswap = True\n",
    "    for j in range(len(array)-i-1):\n",
    "        if (array[j+1] < array[j]):\n",
    "            tmp = array[j]\n",
    "            array[j] = array[j+1]\n",
    "            array[j+1] = tmp\n",
    "            noswap = False\n",
    "    if noswap: break\n",
    "        \n",
    "print(f'Ordered list : {array}')"
   ]
  },
  {
   "cell_type": "markdown",
   "metadata": {
    "id": "dHZkb1YctZkJ"
   },
   "source": [
    "# 18] Insertion Sort\n",
    "\n",
    "During our dsalgo classes, we had covered various types of sorting techniques ranging from selection to quick sort.\n",
    "Did you know? : Python's inbuilt sort() function uses a technique called Tim sort, which is a hybrid of merge and insertion sort.\n",
    "\n",
    "So before we try to solve some of the advanced and efficient techniques, let's have a look at one of the less efficient techniques in insertion sort, which is comparable in performance to selection and bubble sort.\n",
    "Using the concepts learnt in class, let's try to get a feel of the logic using code.\n",
    "Below is attached a pictorial description of the concept:\n",
    "\n",
    "<img src=\"https://he-s3.s3.amazonaws.com/media/uploads/46bfac9.png\" width=700 height=700 />\n"
   ]
  },
  {
   "cell_type": "code",
   "execution_count": null,
   "metadata": {
    "colab": {
     "base_uri": "https://localhost:8080/"
    },
    "id": "XGao38lKtZ60",
    "outputId": "12c0e5ed-4eaa-463d-a00a-df05936e1d9d"
   },
   "outputs": [
    {
     "name": "stdout",
     "output_type": "stream",
     "text": [
      "Enter the list : 3,4,1\n",
      "Ordered list : [1, 3, 4]\n"
     ]
    }
   ],
   "source": [
    "# Extracting input\n",
    "input_arr = input('Enter the list : ')\n",
    "input_arr = input_arr.split(',')\n",
    "array = [int(i) for i in input_arr]\n",
    "\n",
    "# Insertion sort\n",
    "for i in range(1,len(array)):\n",
    "    cur = array[i]\n",
    "    j = i-1\n",
    "    while(array[j]>cur and j>=0):\n",
    "        array[j+1] = array[j]\n",
    "        j -= 1\n",
    "    array[j+1] = cur\n",
    "    \n",
    "print(f'Ordered list : {array}')"
   ]
  },
  {
   "cell_type": "markdown",
   "metadata": {
    "id": "cyx2WnEEmKTa"
   },
   "source": [
    "# 19] Armstrong number\n",
    "\n",
    "A positive integer is called an Armstrong number of order 'n'\n",
    "\n",
    "abcd = a^n + b^n + c^n + d^n\n",
    "\n",
    "If for **3** digits, the sum of **cubes** of each digit is equal to the number itself.\n",
    "\n",
    "---\n",
    "\n",
    "## INPUT\n",
    "\n",
    "- Input a positive integer X\n",
    "\n",
    "## OUPUT\n",
    "- \"X is an Armstrong number\" or \"X is not an Armstrong number\"\n",
    "\n",
    "# Example\n",
    "\n",
    "## INPUT\n",
    "- Input a positive integer 153\n",
    "\n",
    "## OUTPUT\n",
    "153 is an Armstrong number\""
   ]
  },
  {
   "cell_type": "code",
   "execution_count": null,
   "metadata": {
    "colab": {
     "base_uri": "https://localhost:8080/"
    },
    "id": "_2LvdpcPmMd3",
    "outputId": "2e51da31-58b9-4314-d67f-d71b66db68e3"
   },
   "outputs": [
    {
     "name": "stdout",
     "output_type": "stream",
     "text": [
      "Enter a number: 153\n",
      "153 is an Armstrong number\n"
     ]
    }
   ],
   "source": [
    "# Python program to check if the number is an Armstrong number or not\n",
    "\n",
    "# take input from the user\n",
    "num = int(input(\"Enter a number: \"))\n",
    "\n",
    "# initialize sum\n",
    "sum = 0\n",
    "\n",
    "# find the sum of the cube of each digit\n",
    "temp = num\n",
    "while temp > 0:\n",
    "   digit = temp % 10\n",
    "   sum += digit ** 3\n",
    "   temp //= 10\n",
    "\n",
    "# display the result\n",
    "if num == sum:\n",
    "   print(num,\"is an Armstrong number\")\n",
    "else:\n",
    "   print(num,\"is not an Armstrong number\")"
   ]
  },
  {
   "cell_type": "markdown",
   "metadata": {
    "id": "iS-EzTKlmPSO"
   },
   "source": [
    "# 20] Sum of prime numbers till a positive integer\n",
    "\n",
    "Write python code to find the sum of prime numbers from 2 to n where n is a positive integer entered by the user.\n",
    "\n",
    "Note: n can be non-prime or prime. You have to find sum of primes till n and not sum of n prime numbers. i.e. for input 10, output should be 17.\n",
    "\n",
    "Hint: You can try using lambda functions and comprehensions to reduce the lines of code you have to write.\n",
    "\n",
    "\n",
    "\n",
    "Input: A positive integer n.\n",
    "\n",
    "Output: A integer denoting the sum of primes less than or equal to n\n",
    "\n",
    "\n",
    "\n",
    "Sample Input:\n",
    "\n",
    "5\n",
    "\n",
    "Sample Output:\n",
    "\n",
    "10"
   ]
  },
  {
   "cell_type": "code",
   "execution_count": null,
   "metadata": {
    "colab": {
     "base_uri": "https://localhost:8080/"
    },
    "id": "fCo6F9g9BN2z",
    "outputId": "d4702968-5b79-44e0-a6ca-e2e01987e2a7"
   },
   "outputs": [
    {
     "name": "stdout",
     "output_type": "stream",
     "text": [
      "Enter a positive number : 5\n",
      "The sum of primes for the input is 10\n"
     ]
    }
   ],
   "source": [
    "n=int(input('Enter a positive number : '))#find the sum of primes from 2 to n \n",
    "sum_p  = 0\n",
    "for i in range (2,n+1):\n",
    "    k = 0\n",
    "    for j in range(2,i):\n",
    "        if i%j == 0:\n",
    "            k = 1\n",
    "            break\n",
    "    if k ==0:\n",
    "        sum_p += i\n",
    "    \n",
    "print('The sum of primes for the input is',sum_p)"
   ]
  },
  {
   "cell_type": "markdown",
   "metadata": {
    "id": "QZy5CWY4CB3Q"
   },
   "source": [
    "# 21] Alarm Clock\n",
    "Description\n",
    "You're trying to automate your alarm clock by writing a function for it. You're given a day of the week encoded as 1=Mon, 2=Tue, ... 6=Sat, 7=Sun, and whether you are on vacation as a boolean value (a boolean object is either True or False. Google \"booleans python\" to get a better understanding). Based on the day and whether you're on vacation, write a function that returns a time in form of a string indicating when the alarm clock should ring. \n",
    "\n",
    "When not on a vacation, on weekdays, the alarm should ring at \"7:00\" and on the weekends (Saturday and Sunday) it should ring at \"10:00\". \n",
    "\n",
    "While on a vacation, it should ring at \"10:00\" on weekdays. On vacation, it should not ring on weekends, that is, it should return \"off\".\n",
    "\n",
    "----------------------------------------------------------------------\n",
    "Input:\n",
    "The input will be comma separated input without spaces of two elements. The first element will be an integer from 1 to 7, and the second element will be a boolean value (True or False)\n",
    "\n",
    "Output:\n",
    "The output will be a string denoting the time alarm will ring or 'off'\n",
    "\n",
    "----------------------------------------------------------------------\n",
    "Sample input:\n",
    "7,True\n",
    "\n",
    "Sample output:\n",
    "off"
   ]
  },
  {
   "cell_type": "code",
   "execution_count": null,
   "metadata": {
    "colab": {
     "base_uri": "https://localhost:8080/"
    },
    "id": "51I_WUiDBmdY",
    "outputId": "b2efc24b-c6dd-419d-92cb-a364fc3c72f3"
   },
   "outputs": [
    {
     "name": "stdout",
     "output_type": "stream",
     "text": [
      "Enter comma separated value without spaces : 7,True\n",
      "Your alarm is off. Enjoy your vacation !!\n"
     ]
    }
   ],
   "source": [
    "input_str = input('Enter comma separated value without spaces : ')\n",
    "\n",
    "input_list = input_str.split(',')\n",
    "day_of_the_week = int(input_list[0]) \n",
    "if input_list[1] == 'True':\n",
    "  is_on_vacation = True\n",
    "elif input_list[1] == 'False':\n",
    "   is_on_vacation = False\n",
    "else :\n",
    "  is_on_vacation = ''\n",
    "\n",
    "\n",
    "if day_of_the_week <= 7 and day_of_the_week > 0 and (is_on_vacation == True or is_on_vacation == False) :\n",
    "  weekend = [6,7]\n",
    "  if is_on_vacation and day_of_the_week in weekend:\n",
    "      print('Your alarm is off. Enjoy your vacation !!')\n",
    "  elif is_on_vacation and day_of_the_week not in weekend:\n",
    "      print('Your alarm is set at 10:00')\n",
    "  elif  day_of_the_week in weekend :\n",
    "      print('Your alarm is set at 10:00')\n",
    "  else :\n",
    "      print('Its a workday. Your alarm is set at 7:00')\n",
    "\n",
    "else :\n",
    "  print('Invalid input.')"
   ]
  },
  {
   "cell_type": "markdown",
   "metadata": {
    "id": "vC57a_mnM25J"
   },
   "source": [
    "# 22] Shift Vowels\n",
    "\n",
    "Description\n",
    "\n",
    "Write a program that receives a string and shifts all the vowels present in it to the beginning. Output the resultant string. The order of all the vowels with respect to each other as well as the order of all the other characters with respect to each other should stay the same.\n",
    "\n",
    "----------------------------------------------------------------------\n",
    "Input:\n",
    "\n",
    "A string\n",
    "\n",
    "Output:\n",
    "\n",
    "Vowels shifted to the beginning in the input string.\n",
    "\n",
    "----------------------------------------------------------------------\n",
    "Sample input:\n",
    "\n",
    "programming\n",
    "\n",
    "Sample output:\n",
    "\n",
    "oaiprgrmmng\n",
    "\n",
    "----------------------------------------------------------------------\n",
    "Sample input:\n",
    "\n",
    "You love Python!\n",
    "\n",
    "Sample output:\n",
    "\n",
    "ouoeoY lv Pythn!"
   ]
  },
  {
   "cell_type": "code",
   "execution_count": null,
   "metadata": {
    "colab": {
     "base_uri": "https://localhost:8080/"
    },
    "id": "j3itMQ2BNBH2",
    "outputId": "81f146aa-cb56-40a7-c0e4-7d63f913894f"
   },
   "outputs": [
    {
     "name": "stdout",
     "output_type": "stream",
     "text": [
      "Enter a string : programming\n",
      "Output : oaiprgrmmng\n"
     ]
    }
   ],
   "source": [
    "s = input('Enter a string : ')\n",
    "\n",
    "vowel = 'aeiou'\n",
    "v = ''\n",
    "o = ''\n",
    "f = ''\n",
    "for i in s:\n",
    "    if i.lower() in vowel:\n",
    "        v = v+i\n",
    "    else :\n",
    "        o = o+i\n",
    "f = v+o\n",
    "print('Output :',f)"
   ]
  },
  {
   "cell_type": "markdown",
   "metadata": {
    "id": "A_H-1oF_Nx_f"
   },
   "source": [
    "# 23] Balanced Brackets\n",
    "\n",
    "Description\n",
    "\n",
    "You will be given a string with a lot of brackets. You have to print if the brackets are balanced or not. Remember, there are three types of brackets: ‘( )’,  ‘{ }’ and ‘[ ]’.\n",
    "\n",
    "----------------------------------------------------------------------\n",
    "Input:\n",
    "\n",
    "A string\n",
    "\n",
    "Output:\n",
    "\n",
    "Yes, if the brackets are balanced.\n",
    "\n",
    "No otherwise.\n",
    "\n",
    "Sample input:\n",
    "\n",
    "){[[]]}())()\n",
    "\n",
    "Sample output:\n",
    "\n",
    "No\n",
    "\n",
    "Sample input 2:\n",
    "[](){[]()(){}}\n",
    "\n",
    "Sample output:\n",
    "\n",
    "Yes\n"
   ]
  },
  {
   "cell_type": "code",
   "execution_count": null,
   "metadata": {
    "colab": {
     "base_uri": "https://localhost:8080/"
    },
    "id": "8xqJdWR1N8pP",
    "outputId": "7ffe01aa-977a-4296-b2e4-22aa8325031f"
   },
   "outputs": [
    {
     "name": "stdout",
     "output_type": "stream",
     "text": [
      "Enter your input of tangled up open and closed brackets : ){[[]]}())()\n",
      "No\n"
     ]
    }
   ],
   "source": [
    "\n",
    "inp=input('Enter your input of tangled up open and closed brackets : ')\n",
    "\n",
    "stack = []\n",
    "for i in inp:\n",
    "    if len(stack)==0:\n",
    "        stack.append(i)\n",
    "    elif i == ')' and stack[-1]== '(':\n",
    "        stack.pop()\n",
    "    elif i == '}' and stack[-1]=='{':\n",
    "        stack.pop()\n",
    "    elif i == ']' and stack[-1]=='[':\n",
    "        stack.pop()\n",
    "    else :\n",
    "        stack.append(i)\n",
    "\n",
    "if stack:\n",
    "    print('No')\n",
    "else :\n",
    "    print('Yes')"
   ]
  },
  {
   "cell_type": "markdown",
   "metadata": {
    "id": "RGPO9jTORoac"
   },
   "source": [
    "# 24] Vote for Food\n",
    "\n",
    "\n",
    "Description\n",
    "\n",
    "\n",
    "Your team is going for camping and you are taking a vote to decide what food to pack for dinner.\n",
    "Everyone gets a vote and the food item that gets at least one more than half of the votes wins. None of the items wins if nothing gets at least one more than half votes. Assume that every person gets only one vote.\n",
    "The input will contain a list of food items where each occurrence of an item represents one vote. You should print the winning food item as output. If there is no clear winner, print \"NOTA\". \n",
    "\n",
    "Sample Input:\n",
    "\n",
    "\"pasta\",\"pasta\",\"pasta\",\"pasta\",\"pasta\",\"paratha\",\"paratha\",\"paratha\"\n",
    "\n",
    "Sample Output:\n",
    "\n",
    "pasta"
   ]
  },
  {
   "cell_type": "code",
   "execution_count": null,
   "metadata": {
    "colab": {
     "base_uri": "https://localhost:8080/"
    },
    "id": "IfVRe2F1SFXa",
    "outputId": "3a6aa6c7-d712-4932-844b-4960e1e69519"
   },
   "outputs": [
    {
     "name": "stdout",
     "output_type": "stream",
     "text": [
      "Enter the votes casted for different food items : \"pasta\",\"pasta\",\"pasta\",\"pasta\",\"pasta\",\"paratha\",\"paratha\",\"paratha\"\n",
      "\"pasta\"\n"
     ]
    }
   ],
   "source": [
    "votes = input('Enter the votes casted for different food items : ').split(',')\n",
    "k = 0\n",
    "for vote in votes:\n",
    "    if votes.count(vote)> (len(votes)/2):\n",
    "        print(vote)\n",
    "        break\n",
    "    else :\n",
    "        k += 1\n",
    "if k == len(votes):\n",
    "    print('NOTA')"
   ]
  },
  {
   "cell_type": "markdown",
   "metadata": {
    "id": "VUvu4ApASx26"
   },
   "source": [
    "# 25] A weird sum\n",
    "\n",
    "Description\n",
    "\n",
    "Write a program that computes the value of n+nn+nnn+nnnn+... nn...n ntimes with a given number as the value of n.\n",
    "\n",
    "\n",
    "\n",
    "For example, if n=3 , then you have to find the value of 3+33+333\n",
    "\n",
    "if n=10, then you have to find the value of 10 + 1010 + 101010 + 10101010 + 1010101010 + 101010101010 + 10101010101010 + 1010101010101010 +101010101010101010+ 10101010101010101010\n",
    "\n",
    "Note: n will always be a positive number\n",
    "\n",
    "\n",
    "\n"
   ]
  },
  {
   "cell_type": "code",
   "execution_count": null,
   "metadata": {
    "colab": {
     "base_uri": "https://localhost:8080/"
    },
    "id": "Etc53NbvS3m6",
    "outputId": "9a77588e-526b-411b-88fc-03966974c15f"
   },
   "outputs": [
    {
     "name": "stdout",
     "output_type": "stream",
     "text": [
      "Enter your number : 3\n",
      "The weird sum of this number is 369\n"
     ]
    }
   ],
   "source": [
    "n=input('Enter your number : ')\n",
    "\n",
    "#start writing your code here\n",
    "output_list = []\n",
    "for i in range(1,int(n)+1):\n",
    "    output_list.append(n*i)\n",
    "\n",
    "sum = 0\n",
    "for i in range(len(output_list)):\n",
    "    sum += int(output_list[i])\n",
    "\n",
    "print('The weird sum of this number is',sum)"
   ]
  },
  {
   "cell_type": "markdown",
   "metadata": {
    "id": "slor6F0miVVi"
   },
   "source": [
    "# 26] Find the Average marks obtained from string.\n",
    "\n",
    "A High school class of 10 students took a practice test on a online platform.\n",
    "The platform gave result in a single string for all students.The requirement is to find the marks of all students and the average obtained by the school.\n",
    "\n",
    "We need to extract all two digit numbers from the string.\n",
    "\n",
    "\"John 25 Tom 30 Harry 50 Ria 20 Arya 30 David 35 Anuj 33 Naveen 23 Eeshan 19 Kriti 31\"\n",
    "\n",
    "---\n",
    "\n",
    "# Example\n",
    "\n",
    "## Input\n",
    "\n",
    "John 25 Tom 30 Harry 50 Ria 20 Arya 30 David 35 Anuj 33 Naveen 23 Eeshan 19 Kriti 31\n",
    "\n",
    "## Output\n",
    "- Marks obtained by student\n",
    "- Sum of all students marks\n",
    "- Average marks for school\n",
    "\n",
    "## Input\n",
    "- String input from user\n",
    "\n",
    "## Output\n",
    "25\n",
    "30\n",
    "50\n",
    "20\n",
    "30\n",
    "35\n",
    "33\n",
    "23\n",
    "19\n",
    "31\n",
    "Sum is: 296 Average is  29.6\n",
    "\n"
   ]
  },
  {
   "cell_type": "code",
   "execution_count": null,
   "metadata": {
    "colab": {
     "base_uri": "https://localhost:8080/"
    },
    "id": "9Bl0NdXviUuo",
    "outputId": "7f56ff2a-4b7c-434a-e9d0-011c5a20b110"
   },
   "outputs": [
    {
     "name": "stdout",
     "output_type": "stream",
     "text": [
      "Input the string : John 25 Tom 30 Harry 50 Ria 20 Arya 30 David 35 Anuj 33 Naveen 23 Eeshan 19 Kriti 31\n",
      "25\n",
      "30\n",
      "50\n",
      "20\n",
      "30\n",
      "35\n",
      "33\n",
      "23\n",
      "19\n",
      "31\n",
      "Sum is: 296 Average is  29.6\n"
     ]
    }
   ],
   "source": [
    "input_str = (input(\"Input the string : \" ))\n",
    "Total = 0\n",
    "cnt = 0\n",
    "i=0\n",
    "j=0\n",
    "\n",
    "for j in range(len(input_str)-1):\n",
    "      if input_str[j] in ['0','1','2','3','4','5','6','7','8','9']:\n",
    "            i=j+1\n",
    "            if input_str[j+1] in ['0','1','2','3','4','5','6','7','8','9']:\n",
    "                num = int( input_str[j] + input_str[j+1])\n",
    "                Total+=num\n",
    "                cnt+=1\n",
    "                print (num)\n",
    "\n",
    "# average = sum / count of digits\n",
    "avg = Total / cnt\n",
    "print(\"Sum is:\", Total, \"Average is \", avg)\n"
   ]
  },
  {
   "cell_type": "markdown",
   "metadata": {
    "id": "WXR-z5oIffpq"
   },
   "source": [
    "# 27] Max profit in stocks\n",
    "\n",
    "Write a Python program to calculate the maximum profit from selling and buying values of stock in between particuar days.\n",
    "consider Short sell is not allowed.\n",
    "An array of numbers represent the stock prices in chronological order for historical working (market open) days of a month.\n",
    "\n",
    "For example, given [8, 10, 7, 5, 7, 15], the function will return 10, since the buying value of the stock is 5 dollars and sell value is 15 dollars.\n",
    "\n",
    "---\n",
    "## Input\n",
    "- Start and End day of the required analysis duration\n",
    "\n",
    "## Output\n",
    "- Maximum profit that can be obtained by buying and selling the stock in duration from the input.\n",
    "\n",
    "# Example\n",
    "\n",
    "## Input\n",
    " - Input the start day of required duration in month : 10 \n",
    " - Input the end day of required duration in month : 20\n",
    "\n",
    "## Output\n",
    " - Max profit in $:  9\n",
    " - from day 10 to day 20 following are the daily stock prices:\n",
    " [8, 7, 9, 12, 13, 15, 14, 14, 16, 13]\n",
    "\n"
   ]
  },
  {
   "cell_type": "code",
   "execution_count": null,
   "metadata": {
    "colab": {
     "base_uri": "https://localhost:8080/"
    },
    "id": "AUOklgGBf2Yp",
    "outputId": "6442e2d6-1726-445e-e7ee-9f8d70827392"
   },
   "outputs": [
    {
     "name": "stdout",
     "output_type": "stream",
     "text": [
      "Input the Start day of required duration in month: 12\n",
      "Input the End day of required duration in month: 23\n",
      "Max profit in$:  7\n",
      "From day 12 to day 23 following are the daily stock prices: [9, 12, 13, 15, 14, 14, 16, 13, 12]\n"
     ]
    }
   ],
   "source": [
    "stock_price1= [8, 10, 7, 5, 7, 15, 13, 12, 10, 8, 7, 9, 12, 13, 15, 14, 14, 16, 13, 12]\n",
    "Day1 = int(input (\"Input the Start day of required duration in month: \"))\n",
    "Day2 = int(input (\"Input the End day of required duration in month: \"))\n",
    "D1= int (Day1 - 1)\n",
    "D2= int (Day2 - 1)\n",
    "\n",
    "stock_price = stock_price1[D1:D2]\n",
    "max_profit_val, current_max_val = 0, 0 \n",
    "for price in reversed(stock_price):                       \n",
    "    current_max_val = max(current_max_val, price)          \n",
    "    potential_profit = current_max_val - price          \n",
    "    max_profit_val = max(potential_profit, max_profit_val)\n",
    "\n",
    "print(\"Max profit in$: \",max_profit_val)\n",
    "print(\"From day\",Day1,\"to day\",Day2, \"following are the daily stock prices:\",stock_price)"
   ]
  },
  {
   "cell_type": "markdown",
   "metadata": {
    "id": "BI3hqQZ8yLH7"
   },
   "source": [
    "# 28] Pattern Search\n",
    "\n",
    "Find the given pattern in a string, and return its index number.\n",
    "\n",
    "---\n",
    "\n",
    "## Input\n",
    "- String\n",
    "\n",
    "## Output\n",
    "- Index no. at which pattern is starting\n",
    "\n",
    "## Input\n",
    "- ABCEABCDABCEABCD\n",
    "\n",
    "## Output\n",
    "- Pattern found at index 4 and Pattern found at index 12"
   ]
  },
  {
   "cell_type": "code",
   "execution_count": null,
   "metadata": {
    "colab": {
     "base_uri": "https://localhost:8080/"
    },
    "id": "zZkNCSWvyNB8",
    "outputId": "ca38a2ea-69c4-4e79-915a-5fb62c67f21b"
   },
   "outputs": [
    {
     "name": "stdout",
     "output_type": "stream",
     "text": [
      "Pattern found at index 4\n",
      "Pattern found at index 12\n",
      "ABCD\n"
     ]
    }
   ],
   "source": [
    "txt = \"ABCEABCDABCEABCD\"\n",
    "pat = \"ABCD\"\n",
    "\n",
    "M = len(pat)\n",
    "N = len(txt)\n",
    "i = 0\n",
    "\n",
    "while i <= N-M:\n",
    "    # For current index i, check for pattern match\n",
    "    for j in range(M):\n",
    "        if txt[i + j] != pat[j]:\n",
    "            break\n",
    "        j += 1\n",
    "\n",
    "    if j == M:    # if pat[0...M-1] = txt[i, i + 1, ...i + M-1]\n",
    "        print (\"Pattern found at index \" + str(i))\n",
    "        i = i + M\n",
    "    elif j == 0:\n",
    "        i = i + 1\n",
    "    else:\n",
    "        i = i + j    # slide the pattern by j\n",
    "print (pat)\n",
    "    "
   ]
  },
  {
   "cell_type": "markdown",
   "metadata": {
    "id": "IWifOJ5fLJzD"
   },
   "source": [
    "# 29] Count of unique words in file\n",
    "\n",
    "Write a program that creates a text file from user input and prints each unique word in that file.\n",
    "\n",
    "Also print how many times it repeated in input. \n",
    "\n",
    "You can ignore the punctuation and case.\n"
   ]
  },
  {
   "cell_type": "code",
   "execution_count": null,
   "metadata": {
    "colab": {
     "base_uri": "https://localhost:8080/"
    },
    "id": "papeRMXd1ET4",
    "outputId": "7f2e8ffd-76f7-4749-9bbe-fdceb4e3317b"
   },
   "outputs": [
    {
     "name": "stdout",
     "output_type": "stream",
     "text": [
      "Enter the number of test cases : 1\n",
      "Enter line 1 : aa bb\n",
      "{'aa': 1, 'bb': 1}\n"
     ]
    }
   ],
   "source": [
    "# Extracting inputs\n",
    "n = int(input('Enter the number of test cases : '))\n",
    "array = [0]*n\n",
    "for i in range(n):\n",
    "    input_arr = input(f'Enter line {i+1} : ')\n",
    "    array[i] = input_arr\n",
    "# Creating file with content\n",
    "Content = open('Content.txt','w')\n",
    "for i in array:\n",
    "    Content.write(i+'\\n')\n",
    "Content.close()\n",
    "# Reading file\n",
    "Content = open('Content.txt','r')\n",
    "newline = \"\"\n",
    "\n",
    "for line in Content:\n",
    "    # Remove the leading spaces and newline character and lowercase to avoid mismatch.\n",
    "    line = line.replace('\\n', ' ')\n",
    "    punc = '''!()-[]{};:'\"\\,<>./?@#$%^&*_~'''\n",
    "    for ele in line:\n",
    "      if ele in punc:\n",
    "          line = line.replace(ele, \"\")\n",
    "    line = line.lower()\n",
    "    newline = newline + line\n",
    "\n",
    "#Creating a list to store all words in all given strings.\n",
    "li = list(newline.split(\" \"))\n",
    "li.pop()\n",
    "\n",
    "#Print the finale output\n",
    "print({i: li.count(i) for i in li})"
   ]
  },
  {
   "cell_type": "markdown",
   "metadata": {
    "id": "382IZ0G2-XSf"
   },
   "source": [
    "# 30] Print The Pattern\n",
    "\n",
    "Description\n",
    "\n",
    "Printing different patterns is a very good exercise to reinforce iteration through loops and strong logic building. Here you will be given a positive integer and you will generate pattern based on that integer.\n",
    "\n",
    "----------------------------------------------------------------------\n",
    "Input:\n",
    "\n",
    "A positive integer n\n",
    "1 <= n <=20\n",
    "\n",
    "Output:\n",
    "\n",
    "A pattern as described by the Sample input and outputs below.\n",
    "\n",
    "----------------------------------------------------------------------\n",
    "Sample input:\n",
    "\n",
    "5\n",
    "\n",
    "Sample output:\n",
    "\n",
    "![image.png](data:image/png;base64,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)"
   ]
  },
  {
   "cell_type": "code",
   "execution_count": null,
   "metadata": {
    "colab": {
     "base_uri": "https://localhost:8080/"
    },
    "id": "jLSGGUSo-w6R",
    "outputId": "b8367599-f426-4f33-cf3e-c2a3961af5d6"
   },
   "outputs": [
    {
     "name": "stdout",
     "output_type": "stream",
     "text": [
      "Enter the number of lines, you want to get the pattern printed : 5\n",
      "\n",
      "\n",
      "    *\n",
      "   *_*\n",
      "  *_*_*\n",
      " *_*_*_*\n",
      "*_*_*_*_*\n"
     ]
    }
   ],
   "source": [
    "n = int(input('Enter the number of lines, you want to get the pattern printed : '))\n",
    "print('\\n')\n",
    "\n",
    "i = 1\n",
    "while i <= n:\n",
    "    for m in range(n-i):\n",
    "        print(' ',end = '')\n",
    "    for p in range(i-1):\n",
    "        print('*_',end = '')\n",
    "    \n",
    "    print('*')\n",
    "    i += 1"
   ]
  },
  {
   "cell_type": "markdown",
   "metadata": {
    "id": "ciTionqU9xmQ"
   },
   "source": [
    "# 31] Indexing a book\n",
    "\n",
    "Write a program that reads a from standard input and compiles an index of which words appear on which lines, as in the following input. Ignore case and puncuation.\n",
    "\n",
    "----\n",
    "## Input\n",
    "It was the best of times,it was the worst of times,it was the age of wisdom,it was the age of foolishness,\n",
    "\n",
    "## Output\n",
    "it - 1 2 3 4\n",
    "\n",
    "was - 1 2 3 4\n",
    "\n",
    "the - 1 2 3 4\n",
    "\n",
    "best - 1\n",
    "\n",
    "of - 1 2 3 4\n",
    "\n",
    "times - 1 2\n",
    "\n",
    "worst -  2\n",
    "\n",
    "age -   3 4\n",
    "\n",
    "wisdom -   3\n",
    "\n",
    "foolishness -    4"
   ]
  },
  {
   "cell_type": "code",
   "execution_count": null,
   "metadata": {
    "colab": {
     "base_uri": "https://localhost:8080/"
    },
    "id": "9wYfRqFn9wkl",
    "outputId": "61e1bf17-ee38-449b-fa4e-5285a837d448"
   },
   "outputs": [
    {
     "name": "stdout",
     "output_type": "stream",
     "text": [
      "it - 1 2 3 4\n",
      "was - 1 2 3 4\n",
      "the - 1 2 3 4\n",
      "best - 1   \n",
      "of - 1 2 3 4\n",
      "times - 1 2  \n",
      "worst -  2  \n",
      "age -   3 4\n",
      "wisdom -   3 \n",
      "foolishness -    4\n",
      " -    \n"
     ]
    }
   ],
   "source": [
    "#Input the string\n",
    "ABCD = \"It was the best of times,it was the worst of times,it was the age of wisdom,it was the age of foolishness,\"\n",
    "\n",
    "ABCD = ABCD.lower()\n",
    "#Create seperate lines\n",
    "ABCDE = ABCD.replace(',',\" \")\n",
    "linelist1 = list(ABCDE.split(\" \"))\n",
    "ABCD = ABCD.replace('\\n', '')\n",
    "#Create list with each line as an element\n",
    "linelist = list(ABCD.split(\",\"))\n",
    "\n",
    "#Create list with each word in a seperate line as an element\n",
    "lineAA = list(str(linelist[0]).split(\" \"))\n",
    "lineBB = list(str(linelist[1]).split(\" \"))\n",
    "lineCC = list(str(linelist[2]).split(\" \"))\n",
    "lineDD = list(str(linelist[3]).split(\" \"))\n",
    "\n",
    "#Create list with Unique word in original string as an element\n",
    "newlist = []\n",
    "for i in linelist1:\n",
    "    if i not in newlist:\n",
    "        newlist.append(i)\n",
    "\n",
    "x=y=z=o=0       \n",
    "#Traverse through the list to create index\n",
    "     \n",
    "for j in newlist:\n",
    "    \n",
    "    if j in lineAA:\n",
    "        x=1\n",
    "    if j in lineBB:\n",
    "        y=2\n",
    "    if j in lineCC:\n",
    "        z=3\n",
    "    if j in lineDD:\n",
    "        o=4\n",
    "#Print the finale output       \n",
    "    print(j,\"-\",x if x>0 else \"\", y if y>0 else \"\", z if z>0 else \"\",o if o>0 else \"\")\n",
    "#Set the counter to 0    \n",
    "    x=y=z=o=0"
   ]
  },
  {
   "cell_type": "markdown",
   "metadata": {
    "id": "KsHzxuL_9mUi"
   },
   "source": [
    "# 32] Maximum XOR of Two Numbers in an Array\n",
    "\n",
    "Given an array Arr of non-negative integers of size N. The task is to find the maximum possible xor between two numbers present in the array.\n",
    "\n",
    "Generate all pairs of the given array and compute the XOR of the pairs.\n",
    "\n",
    "## Example: \n",
    "\n",
    "## Input: \n",
    "Arr = {25, 10, 2, 8, 5, 3} \n",
    "## Output:\n",
    "28 \n",
    "  - Explanation: The maximum result is 5 ^ 25 = 28"
   ]
  },
  {
   "cell_type": "code",
   "execution_count": null,
   "metadata": {
    "colab": {
     "base_uri": "https://localhost:8080/"
    },
    "id": "tX03weTYJoTS",
    "outputId": "d916f091-e723-44d1-a13b-8af2d264e73f"
   },
   "outputs": [
    {
     "name": "stdout",
     "output_type": "stream",
     "text": [
      "Maximum XOR is: 28  for array: [25, 10, 2, 8, 5, 3] and lenght: 6\n"
     ]
    }
   ],
   "source": [
    "# maximum xor\n",
    " \n",
    "maxXor = 0\n",
    "arr = [ 25, 10, 2, 8, 5, 3 ]\n",
    "n = len(arr)\n",
    "\n",
    "# Calculating xor of each pair\n",
    "for i in range(n):\n",
    "    for j in range(i + 1, n):\n",
    "        maxXor = max(maxXor,\\\n",
    "                         arr[i] ^ arr[j])\n",
    "print(\"Maximum XOR is:\",maxXor,\" for array:\",arr,\"and lenght:\",n) "
   ]
  },
  {
   "cell_type": "markdown",
   "metadata": {
    "id": "nvDxLU-9Jtu-"
   },
   "source": [
    "# 33] Type of triangle\n",
    "\n",
    "Write a Python program to check a triangle is equilateral, isosceles or scalene.\n",
    "Note :\n",
    "An equilateral triangle is a triangle in which all three sides are equal.\n",
    "A scalene triangle is a triangle that has three unequal sides.\n",
    "An isosceles triangle is a triangle with (at least) two equal sides.\n",
    "\n",
    "## Input\n",
    "- x: 6                                                                                                          \n",
    "y: 8                                                                                                          \n",
    "z: 12                                                                      \n",
    "\n",
    "## Output\n",
    "Scalene triangle "
   ]
  },
  {
   "cell_type": "code",
   "execution_count": null,
   "metadata": {
    "colab": {
     "base_uri": "https://localhost:8080/"
    },
    "id": "ClXuUFkKJtBU",
    "outputId": "6f71df13-df7a-4e42-bff3-a8c051217e91"
   },
   "outputs": [
    {
     "name": "stdout",
     "output_type": "stream",
     "text": [
      "Input lengths of the triangle sides: \n",
      "SideA: 3\n",
      "SideB: 4\n",
      "SideC: 5\n",
      "Scalene triangle\n"
     ]
    }
   ],
   "source": [
    "print(\"Input lengths of the triangle sides: \")\n",
    "SideA = int(input(\"SideA: \"))\n",
    "SideB = int(input(\"SideB: \"))\n",
    "SideC = int(input(\"SideC: \"))\n",
    "if (SideA+SideB<SideC or SideB+SideC<SideA or SideC+SideA<SideB):\n",
    "  print (\"Not a Triangle!\")\n",
    "elif SideA == SideB == SideC:\n",
    "  print(\"Equilateral triangle\")\n",
    "elif ( SideA==SideB or SideB==SideC or SideC==SideA):\n",
    "\tprint(\"isosceles triangle\")\n",
    "else:\n",
    "\tprint(\"Scalene triangle\")"
   ]
  },
  {
   "cell_type": "markdown",
   "metadata": {
    "id": "1VrQuDHgJ2Hk"
   },
   "source": [
    "# 34] Hogwarts house sorting hat\n",
    "\n",
    "Ask the user few questions and depending on their answer choose the house for them in Hogwarts Castel.\n",
    "\n",
    "The Houses are Gryffindor , Ravenclaw , Hufflepuff , slytherin."
   ]
  },
  {
   "cell_type": "code",
   "execution_count": null,
   "metadata": {
    "colab": {
     "base_uri": "https://localhost:8080/"
    },
    "id": "7hSJe5VYM8bj",
    "outputId": "a94fab95-4c6c-456f-994d-97b6fee198ad"
   },
   "outputs": [
    {
     "name": "stdout",
     "output_type": "stream",
     "text": [
      "How would you describe yourself? a) brave, b) studious, c) loyal, or d) ambitious?a\n",
      "What can you be found doing on the weekends? \n",
      "a) Going on adventures \n",
      "b) Doing my homework \n",
      "c) Spending time with family or friends \n",
      "d) Plotting revenge on my enemies\n",
      "a\n",
      "GRYFFINDOR!!!!!!\n"
     ]
    }
   ],
   "source": [
    "gryffindor = 0\n",
    "ravenclaw = 0\n",
    "hufflepuff = 0\n",
    "slytherin = 0\n",
    "q1_answer = input(\"How would you describe yourself? a) brave, b) studious, c) loyal, or d) ambitious?\")\n",
    "if q1_answer == \"a\":\n",
    "  gryffindor = gryffindor + 1\n",
    "elif q1_answer == \"b\":\n",
    "  ravenclaw += 1\n",
    "elif q1_answer == \"c\":\n",
    "  hufflepuff += 1\n",
    "elif q1_answer == \"d\":\n",
    "  slytherin += 1\n",
    "else:\n",
    "  print(\"Sorry, I don't understand that answer.\")\n",
    "\n",
    "q2_answer = input(\"What can you be found doing on the weekends? \\na) Going on adventures \\nb) Doing my homework \\nc) Spending time with family or friends \\nd) Plotting revenge on my enemies\\n\")\n",
    "if q2_answer == 'a':\n",
    "  gryffindor += 2\n",
    "elif q2_answer == 'b':\n",
    "  ravenclaw += 2\n",
    "elif q2_answer == 'c':\n",
    "  hufflepuff +=2\n",
    "elif q2_answer == 'd':\n",
    "  slytherin +=2\n",
    "else:\n",
    "  print(\"Sorry, I don't understand that response.\")\n",
    "\n",
    "if gryffindor > ravenclaw and gryffindor > hufflepuff and gryffindor > slytherin:\n",
    "  print(\"GRYFFINDOR!!!!!!\")\n",
    "\n",
    "elif ravenclaw > gryffindor and ravenclaw > hufflepuff and ravenclaw > slytherin:\n",
    "  print(\"RAVENCLAW!!!!!!\")\n",
    "elif hufflepuff > gryffindor and hufflepuff > ravenclaw and hufflepuff > slytherin:\n",
    "   print(\"HUFFLEPUFF!!!!!!\")\n",
    "elif slytherin > gryffindor and slytherin > ravenclaw and slytherin > hufflepuff:\n",
    "  print(\"SLYTHERIN!!!!!!\")\n",
    "\n",
    "else:\n",
    "  print(\"Too difficult to decide... Maybe you would like to decide yourself like 'Haarry'.\")"
   ]
  },
  {
   "cell_type": "markdown",
   "metadata": {
    "id": "TonEOD050bl4"
   },
   "source": [
    "# 35] Specific sum\n",
    "\n",
    "Description\n",
    "\n",
    "Lets now raise the bar higher with this problem and drive home how amazing having more than one iterators can be.\n",
    "\n",
    "You will be given a list and an integer k, you have to find two numbers from the list that add up to k\n",
    "\n",
    "\n",
    "\n",
    "Input:\n",
    "\n",
    "Two lines of input, the first line will have a sorted list of integers, the second list will have the number k\n",
    "\n",
    "\n",
    "\n",
    "Output:\n",
    "\n",
    "Two numbers from the list that add up to k\n",
    "\n",
    "\n",
    "\n",
    "\n",
    "\n",
    "Sample input:\n",
    "\n",
    "[1, 3, 5, 6, 10] \n",
    "\n",
    "15\n",
    "\n",
    "\n",
    "\n",
    "Sample output:\n",
    "\n",
    "5 10\n",
    "\n",
    "\n",
    "\n",
    "\n",
    "\n",
    "Sample input:\n",
    "\n",
    "[2, 6, 7, 10, 16, 17, 19]\n",
    "\n",
    "24\n",
    "\n",
    "\n",
    "\n",
    "Sample output:\n",
    "\n",
    "7 17"
   ]
  },
  {
   "cell_type": "code",
   "execution_count": null,
   "metadata": {
    "colab": {
     "base_uri": "https://localhost:8080/"
    },
    "id": "4zK5EDmA0kL4",
    "outputId": "9c2a2e2f-03d4-4433-8e5d-c41091544afe"
   },
   "outputs": [
    {
     "name": "stdout",
     "output_type": "stream",
     "text": [
      "Enter few numbers separated by comma with no spaces : 1, 3, 5, 6, 10\n",
      "Enter a number you want two numbers from above to add up to : 9\n",
      "\n",
      "The two numbers which add up to the specific sum entered are 3 and 6\n"
     ]
    }
   ],
   "source": [
    "input_str = input('Enter few numbers separated by comma with no spaces : ')\n",
    "specific_sum = int(input('Enter a number you want two numbers from above to add up to : '))\n",
    "\n",
    "input_list = input_str.split(',')\n",
    "\n",
    "i,j =0,len(input_list)-1\n",
    "while 0 < 1:\n",
    "    if int(input_list[i]) + int(input_list[j]) == specific_sum:\n",
    "        print('\\nThe two numbers which add up to the specific sum entered are{} and{}'.format(input_list[i],input_list[j]))\n",
    "        break\n",
    "    elif int(input_list[i]) + int(input_list[j]) < specific_sum:\n",
    "        i += 1\n",
    "    else :\n",
    "        j -= 1"
   ]
  },
  {
   "cell_type": "markdown",
   "metadata": {
    "id": "i9x3jSzA2Tws"
   },
   "source": [
    "# 36] Anagram Maker\n",
    "\n",
    "Two words are anagrams of one another if their letters can be rearranged to form the other word.\n",
    "\n",
    "Given a string, split it into two contiguous substrings of equal length. Determine the minimum number of characters to change to make the two substrings into anagrams of one another."
   ]
  },
  {
   "cell_type": "code",
   "execution_count": null,
   "metadata": {
    "colab": {
     "base_uri": "https://localhost:8080/"
    },
    "id": "-fHZePp12S4V",
    "outputId": "8ad11e4b-b58e-4923-a2f0-6d0cad0b5f18"
   },
   "outputs": [
    {
     "name": "stdout",
     "output_type": "stream",
     "text": [
      "Number of characters to change:  2\n"
     ]
    }
   ],
   "source": [
    "s = 'ababbc'\n",
    "s1 = s[:len(s)//2]\n",
    "s2 = s[len(s)//2:]\n",
    "\n",
    "if (len(s1) != len(s2)):\n",
    "    print(\"The two substrings cannot be anagrams of each other as they're of unequal length.\")\n",
    "else:\n",
    "    match = 0\n",
    "    for i in s1:\n",
    "        for x in s2:\n",
    "            if x == i:\n",
    "                match += 1\n",
    "                break\n",
    "    ans = len(s1) - match\n",
    "    print(\"Number of characters to change: \", ans)"
   ]
  },
  {
   "cell_type": "markdown",
   "metadata": {
    "id": "EwbNTYXS25Sl"
   },
   "source": [
    "# 37] Leap Year\n",
    "\n",
    "**Problem**\n",
    "\n",
    "An extra day is added to the calendar almost every four years as February 29, and the day is called a leap day. It corrects the calendar for the fact that our planet takes approximately 365.25 days to orbit the sun. A leap year contains a leap day.\n",
    "\n",
    "In the Gregorian calendar, three conditions are used to identify leap years:\n",
    "\n",
    "The year can be evenly divided by 4, is a leap year, unless:\n",
    "The year can be evenly divided by 100, it is NOT a leap year, unless:\n",
    "The year is also evenly divisible by 400. Then it is a leap year.\n",
    "This means that in the Gregorian calendar, the years 2000 and 2400 are leap years, while 1800, 1900, 2100, 2200, 2300 and 2500 are NOT leap years.\n",
    "\n",
    "**Task**\n",
    "\n",
    "Given a year, determine whether it is a leap year. If it is a leap year, return the Boolean True, otherwise return False.\n",
    "\n",
    "Note that the code stub provided reads from STDIN and passes arguments to the is_leap function. It is only necessary to complete the is_leap function."
   ]
  },
  {
   "cell_type": "code",
   "execution_count": null,
   "metadata": {
    "colab": {
     "base_uri": "https://localhost:8080/"
    },
    "id": "QVe8bji722TI",
    "outputId": "47e2ff0b-9e7b-4f0d-d559-42a61cbbc2ef"
   },
   "outputs": [
    {
     "name": "stdout",
     "output_type": "stream",
     "text": [
      "Enter a year: 2400\n",
      "It is a leap year\n"
     ]
    }
   ],
   "source": [
    "year = int(input(\"Enter a year: \"))\n",
    "if year % 4 == 0:\n",
    "    if year % 100 == 0:\n",
    "        if year % 400 == 0:\n",
    "            print(\"It is a leap year\")\n",
    "        else:\n",
    "            print(\"It is NOT a leap year\")"
   ]
  },
  {
   "cell_type": "markdown",
   "metadata": {
    "id": "UUuyTOqj3Ffx"
   },
   "source": [
    "# 38] Sentence Breakdown\n",
    "\n",
    "Write a program that accepts a sentence and calculate the number of digits, uppercase and lowercase letters."
   ]
  },
  {
   "cell_type": "code",
   "execution_count": null,
   "metadata": {
    "colab": {
     "base_uri": "https://localhost:8080/"
    },
    "id": "NJ6AaReN3IWy",
    "outputId": "61146ded-8359-4fda-c5df-af41067fe786"
   },
   "outputs": [
    {
     "name": "stdout",
     "output_type": "stream",
     "text": [
      "Enter a sentence: Hello 123 hello\n",
      "There are 3 digits, 9 lowercase letters and 1 uppercase letters in the sentence\n"
     ]
    }
   ],
   "source": [
    "sentence = input(\"Enter a sentence: \")\n",
    "digits = 0\n",
    "upper = 0\n",
    "lower = 0\n",
    "for i in sentence:\n",
    "    if i in '0123456789':\n",
    "        digits += 1\n",
    "    if i.islower():\n",
    "        lower += 1\n",
    "    if i.isupper():\n",
    "        upper += 1\n",
    "print(f\"There are {digits} digits, {lower} lowercase letters and {upper} uppercase letters in the sentence\")"
   ]
  },
  {
   "cell_type": "markdown",
   "metadata": {
    "id": "kKM_uaIP8158"
   },
   "source": [
    "# 39] Mobile Number\n",
    "\n",
    "Write a program to take the user’s mobile number as input and print the missing digits."
   ]
  },
  {
   "cell_type": "code",
   "execution_count": null,
   "metadata": {
    "colab": {
     "base_uri": "https://localhost:8080/"
    },
    "id": "TCJp_qgO8s8Z",
    "outputId": "79d1a0c2-1e5f-4a90-c94a-f3503de2a1c8"
   },
   "outputs": [
    {
     "name": "stdout",
     "output_type": "stream",
     "text": [
      "Enter you mobile number: 6584222255\n",
      "0\n",
      "1\n",
      "3\n",
      "7\n",
      "9\n"
     ]
    }
   ],
   "source": [
    "n = int(input(\"Enter you mobile number: \"))\n",
    "c = 0\n",
    "for i in range(10):\n",
    "    num = n\n",
    "    while (num>0):\n",
    "        a = num%10\n",
    "        if (i == a):\n",
    "            c = c + 1\n",
    "        num = num//10\n",
    "    if (c==0):\n",
    "        print(i)\n",
    "        c = 0\n",
    "    else:\n",
    "        c = 0"
   ]
  },
  {
   "cell_type": "markdown",
   "metadata": {
    "id": "58t2HV1_9FPJ"
   },
   "source": [
    "# 40] Ancient Chinese puzzle\n",
    "\n",
    "You're a farm owner and you count 35 heads and 94 legs among the chicken and rabbits in the farm. How many rabbits and how many chicken do you have?"
   ]
  },
  {
   "cell_type": "code",
   "execution_count": null,
   "metadata": {
    "colab": {
     "base_uri": "https://localhost:8080/"
    },
    "id": "k1cXBSgW895Q",
    "outputId": "6e3211e0-eb28-4f3d-cd5b-65ae4560b639"
   },
   "outputs": [
    {
     "name": "stdout",
     "output_type": "stream",
     "text": [
      "\n",
      "No. of Chicken =  23 \n",
      "No. of Rabbits =  12\n"
     ]
    }
   ],
   "source": [
    "heads = 35\n",
    "legs = 94\n",
    "\n",
    "if (legs % 2 != 0):\n",
    "    print(\"Invalid input!\")\n",
    "    legs = int(input(\"Enter the no. of legs again: \"))\n",
    "r = int((legs - (2*heads))/2)\n",
    "c = heads - r\n",
    "print(\"\\nNo. of Chicken = \",c, \"\\nNo. of Rabbits = \", r)"
   ]
  },
  {
   "cell_type": "markdown",
   "metadata": {
    "id": "WdWdU1Je9hWi"
   },
   "source": [
    "# 41] Tic-Tac-Toe\n",
    "\n",
    "Tic-tac-toe is played by two players A and B on a 3 x 3 grid. The rules of Tic-Tac-Toe are:\n",
    "\n",
    "- Players take turns placing characters into empty squares ' '.\n",
    "The first player A always places 'X' characters, while the second player B always places 'O' characters.\n",
    "- 'X' and 'O' characters are always placed into empty squares, never on filled ones.\n",
    "- The game ends when there are three of the same (non-empty) character filling any row, column, or diagonal.\n",
    "- The game also ends if all squares are non-empty.\n",
    "- No more moves can be played if the game is over.\n",
    "\n",
    "Given a 2D integer array moves where moves[i] = [rowi, coli] indicates that the ith move will be played on grid[rowi][coli]. return the winner of the game if it exists (A or B). In case the game ends in a draw return \"Draw\". If there are still movements to play return \"Pending\".\n",
    "\n",
    "You can assume that moves is valid (i.e., it follows the rules of Tic-Tac-Toe), the grid is initially empty, and A will play first."
   ]
  },
  {
   "cell_type": "code",
   "execution_count": null,
   "metadata": {
    "colab": {
     "base_uri": "https://localhost:8080/"
    },
    "id": "OKbBimNZ9U_6",
    "outputId": "b809a495-b93d-4d99-fc11-f150267e0781"
   },
   "outputs": [
    {
     "name": "stdout",
     "output_type": "stream",
     "text": [
      "Moves:  [[0, 0], [2, 0], [1, 1], [2, 1], [2, 2]] \n",
      "\n",
      "A wins!\n"
     ]
    }
   ],
   "source": [
    "moves = [[0,0],[2,0],[1,1],[2,1],[2,2]]\n",
    "#moves = [[0,0],[1,1],[2,0],[1,0],[1,2],[2,1],[0,1],[0,2],[2,2]]\n",
    "#moves = [[0,0],[1,1],[0,1],[0,2],[1,0],[2,0]]\n",
    "print(\"Moves: \", moves, \"\\n\")\n",
    "\n",
    "win = False\n",
    "#Initializing board\n",
    "board = [[0]*3 for _ in range(3)]\n",
    "\n",
    "#Filling board according to each player's moves\n",
    "for i,m in enumerate(moves):\n",
    "\n",
    "    if i % 2 :\n",
    "        #Player B\n",
    "        board[m[0]][m[1]] += -1 \n",
    "    else:\n",
    "        #Player A\n",
    "        board[m[0]][m[1]] += 1 \n",
    "\n",
    "#Checking board horizontally\n",
    "for row in board: \n",
    "    if sum(row) == 3: \n",
    "        print(\"A wins!\")\n",
    "        win = True\n",
    "    elif sum(row) == -3:\n",
    "        print(\"B wins!\")\n",
    "        win = True\n",
    "\n",
    "#Creating a transpose of the grid\n",
    "board_T= [[0]*3 for _ in range(3)]\n",
    "\n",
    "for i in range(len(board)):\n",
    "    for j in range(len(board[0])):\n",
    "        board_T[i][j] = board[j][i]\n",
    "\n",
    "#Checking board vertically\n",
    "for row in board_T:\n",
    "    if sum(row) == 3: \n",
    "        print(\"A wins!\")\n",
    "        win = True\n",
    "    elif sum(row) == -3:\n",
    "        print(\"B wins!\")\n",
    "        win = True\n",
    "\n",
    "#Checking board diagonally\n",
    "diag, diag2 = 0, 0 \n",
    "for i in range(3):\n",
    "    diag += board[i][i]\n",
    "    if diag == 3 : \n",
    "        print(\"A wins!\")\n",
    "        win = True\n",
    "    elif diag == -3:\n",
    "        print(\"B wins!\")\n",
    "        win = True\n",
    "\n",
    "    diag2 += board[2-i][i]\n",
    "    if diag2 == 3 : \n",
    "        print(\"A wins!\")\n",
    "        win = True\n",
    "    elif diag2 == -3:\n",
    "        print(\"B wins!\")\n",
    "        win = True\n",
    "\n",
    "if win == False: \n",
    "    if len(moves) == 9 : \n",
    "        print(\"Its a draw!\")\n",
    "    else:\n",
    "        print(\"Game pending...\")"
   ]
  },
  {
   "cell_type": "markdown",
   "metadata": {
    "id": "TKetoTSGKWJS"
   },
   "source": [
    "# 42] Isomorphic Strings\n",
    "\n",
    "Given two strings s and t, determine if they are isomorphic.\n",
    "\n",
    "Two strings s and t are isomorphic if the characters in s can be replaced to get t.\n",
    "\n",
    "All occurrences of a character must be replaced with another character while preserving the order of characters. No two characters may map to the same character, but a character may map to itself."
   ]
  },
  {
   "cell_type": "code",
   "execution_count": null,
   "metadata": {
    "colab": {
     "base_uri": "https://localhost:8080/"
    },
    "id": "sAcS0_jjKPcW",
    "outputId": "38062a02-042c-4f6c-8e58-791e0437c94d"
   },
   "outputs": [
    {
     "name": "stdout",
     "output_type": "stream",
     "text": [
      "The strings 'app' and 'see' are Isomorphic\n"
     ]
    }
   ],
   "source": [
    "s = \"app\"\n",
    "t = \"see\"\n",
    "\n",
    "list1 = [i for i in s]\n",
    "list2 = [j for j in t]\n",
    "list_all = list(zip(list1, list2))  \n",
    "\n",
    "set_all = set(list_all)     #stores unique values from list\n",
    "\n",
    "if len(set_all) == len(list_all) :\n",
    "     print(f\"The strings '{s}' and '{t}' are NOT Isomorphic\")\n",
    "else:\n",
    "    print(f\"The strings '{s}' and '{t}' are Isomorphic\")"
   ]
  },
  {
   "cell_type": "markdown",
   "metadata": {
    "id": "aHMTM9q-KfLy"
   },
   "source": [
    "# 43] Longest Common Prefix\n",
    "Write a program to find the longest common prefix string amongst an array of strings.\n",
    "\n",
    "If there is no common prefix, return an empty string \"\""
   ]
  },
  {
   "cell_type": "code",
   "execution_count": null,
   "metadata": {
    "colab": {
     "base_uri": "https://localhost:8080/"
    },
    "id": "YQLJKMxxKeNE",
    "outputId": "459a40d2-821c-4ca7-e56d-63ec11b62d2b"
   },
   "outputs": [
    {
     "name": "stdout",
     "output_type": "stream",
     "text": [
      "How many strings do you wish to enter: 3\n",
      "Enter a string: string\n",
      "Enter a string: store\n",
      "Enter a string: strum\n",
      "\n",
      "Longest common prefix:  st\n"
     ]
    }
   ],
   "source": [
    "n = int(input(\"How many strings do you wish to enter: \"))\n",
    "strings = []\n",
    "for i in range(n):\n",
    "    strings.append(input(\"Enter a string: \"))\n",
    "current = strings[0]\n",
    "for i in range(1,len(strings)):\n",
    "    temp = \"\"\n",
    "    for j in range(len(strings[i])):\n",
    "        if j<len(current) and current[j] == strings[i][j]:\n",
    "            temp+=current[j]\n",
    "        else:\n",
    "            break\n",
    "    current = temp\n",
    "print(\"\\nLongest common prefix: \", current)"
   ]
  },
  {
   "cell_type": "markdown",
   "metadata": {
    "id": "5YJHCW9zK0Sg"
   },
   "source": [
    "# 44] Valid Palindrome\n",
    "\n",
    "A phrase is a palindrome if, after converting all uppercase letters into lowercase letters and removing all non-alphanumeric characters, it reads the same forward and backward. Alphanumeric characters include letters and numbers.\n",
    "\n",
    "Given a string, find out whether it is a palindrome or not."
   ]
  },
  {
   "cell_type": "code",
   "execution_count": null,
   "metadata": {
    "colab": {
     "base_uri": "https://localhost:8080/"
    },
    "id": "X8v3k0Q6Kqx5",
    "outputId": "8e3130a8-b27d-416b-b7ab-4c0a1fc9c517"
   },
   "outputs": [
    {
     "name": "stdout",
     "output_type": "stream",
     "text": [
      "Enter a word/phrase: abcD@12!21dcbA\n",
      "It is a palindrome.\n"
     ]
    }
   ],
   "source": [
    "string = input(\"Enter a word/phrase: \")\n",
    "#isalnum() is a function that checks whether a string is alphanumeric or not.\n",
    "string = \"\".join(s for s in string if s.isalnum()).lower()\n",
    "rev = string[::-1]\n",
    "if string == rev:\n",
    "    print(\"It is a palindrome!\")\n",
    "else:\n",
    "    print(\"It is NOT a palindrome\")"
   ]
  },
  {
   "cell_type": "markdown",
   "metadata": {
    "id": "hPzIS43_PHnq"
   },
   "source": [
    "# 45] Morse Code\n",
    "\n",
    "International Morse Code defines a standard encoding where each letter is mapped to a series of dots and dashes, as follows:\n",
    "\n",
    "'a' maps to \".-\", 'b' maps to \"-...\", 'c' maps to \"-.-.\", and so on.\n",
    "\n",
    "Given a string, translate it into Morse Code."
   ]
  },
  {
   "cell_type": "code",
   "execution_count": null,
   "metadata": {
    "colab": {
     "base_uri": "https://localhost:8080/"
    },
    "id": "0lwGEZj6K4YM",
    "outputId": "2573717f-eaa4-41aa-db9e-0908de19111e"
   },
   "outputs": [
    {
     "name": "stdout",
     "output_type": "stream",
     "text": [
      "Enter a word/sentence: this is a string\n",
      "- .... .. ...  .. ...  .-  ... - .-. .. -. --. "
     ]
    }
   ],
   "source": [
    "morse = [\".-\",\"-...\",\"-.-.\",\"-..\",\".\",\"..-.\",\"--.\",\"....\",\"..\",\".---\",\"-.-\",\".-..\",\"--\",\"-.\",\"---\",\".--.\",\"--.-\",\".-.\",\"...\",\"-\",\"..-\",\"...-\",\".--\",\"-..-\",\"-.--\",\"--..\"]\n",
    "string = input(\"Enter a word/sentence: \")\n",
    "for i in string:\n",
    "    if i == \" \":\n",
    "        print(\" \", end=\"\")\n",
    "    else: \n",
    "        print(morse[ord(i.upper())-65], end=\" \")"
   ]
  },
  {
   "cell_type": "markdown",
   "metadata": {
    "id": "5fd3LVSuT_E-"
   },
   "source": [
    "# 46] Jewels and Stones\n",
    "\n",
    "You're given strings jewels representing the types of stones that are jewels, and stones representing the stones you have. Each character in stones is a type of stone you have. You want to know how many of the stones you have are also jewels.\n",
    "\n",
    "Letters are case sensitive, so \"a\" is considered a different type of stone from \"A\"."
   ]
  },
  {
   "cell_type": "code",
   "execution_count": null,
   "metadata": {
    "colab": {
     "base_uri": "https://localhost:8080/"
    },
    "id": "xNhy3pwUPOca",
    "outputId": "a07514ce-8eef-4ea8-9b65-a3b04bee03b1"
   },
   "outputs": [
    {
     "name": "stdout",
     "output_type": "stream",
     "text": [
      "3 of the stones are jewels\n"
     ]
    }
   ],
   "source": [
    "jewels = \"aAB\"\n",
    "stones = \"aAAbbbb\"\n",
    "\n",
    "count = 0\n",
    "#iterate over each stone check if it's a jewel and increment count\n",
    "for stone in stones:\n",
    "    if stone in jewels:\n",
    "        count += 1\n",
    "print(f\"{count} of the stones are jewels\")"
   ]
  }
 ],
 "metadata": {
  "colab": {
   "collapsed_sections": [],
   "provenance": []
  },
  "kernelspec": {
   "display_name": "Python 3 (ipykernel)",
   "language": "python",
   "name": "python3"
  },
  "language_info": {
   "codemirror_mode": {
    "name": "ipython",
    "version": 3
   },
   "file_extension": ".py",
   "mimetype": "text/x-python",
   "name": "python",
   "nbconvert_exporter": "python",
   "pygments_lexer": "ipython3",
   "version": "3.7.6"
  }
 },
 "nbformat": 4,
 "nbformat_minor": 1
}

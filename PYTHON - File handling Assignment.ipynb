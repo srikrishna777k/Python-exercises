{
 "cells": [
  {
   "cell_type": "code",
   "execution_count": null,
   "id": "VA0OiqHUDMrC",
   "metadata": {
    "colab": {
     "base_uri": "https://localhost:8080/"
    },
    "id": "VA0OiqHUDMrC",
    "outputId": "778d5e19-d9e7-414a-ae7b-ad331809746f"
   },
   "outputs": [],
   "source": [
    "# Please run this code block before moving on the subsequent cells.\n",
    "\n",
    "# Global Data validation function\n",
    "import datetime\n",
    "def validate(line):\n",
    "    l1 = line.split(',')\n",
    "    try:\n",
    "        date = datetime.datetime.strptime(l1[0], '%d/%m/%Y')\n",
    "    except ValueError as err:\n",
    "        return({'remark':'msg continuation'})\n",
    "    l2 = l1[1].split('-')\n",
    "    l3 = l2[1].split(': ')\n",
    "    if len(l3)>1:\n",
    "        name = l3[0].strip()\n",
    "        msg_date = l1[0]\n",
    "        msg_time = l2[0].strip()\n",
    "        message = ': '.join(l3[1:])\n",
    "    else:\n",
    "        return({'remark':'computerized msg'})\n",
    "    return {'name':name,'msg_date':msg_date,'msg_time':msg_time,'message':message,'remark':'starting msg'}"
   ]
  },
  {
   "cell_type": "code",
   "execution_count": null,
   "id": "da905af5",
   "metadata": {
    "colab": {
     "base_uri": "https://localhost:8080/"
    },
    "id": "da905af5",
    "outputId": "5813e767-9ef3-4d80-a4e6-0f737e411135"
   },
   "outputs": [],
   "source": [
    "#1. Find the list of unique members who has interacted at least once in this group\n",
    "\n",
    "fhand = open('chatfile.txt', encoding='utf-8')\n",
    "Members={}\n",
    "for line in fhand:\n",
    "    line = line.rstrip()\n",
    "    data = validate(line)\n",
    "    if line and data['remark']=='starting msg': \n",
    "        name = data['name']\n",
    "        Members[name] = Members.get(name,0) + 1\n",
    "print(Members.keys())"
   ]
  },
  {
   "cell_type": "code",
   "execution_count": null,
   "id": "875695f5",
   "metadata": {
    "id": "875695f5"
   },
   "outputs": [],
   "source": [
    "#2. Design a function named conversation_by_date(file, date) that will help us to extract\n",
    "# the entire conversation which happened on a particular date. As shown, this function should take two\n",
    "# arguments: (10 marks)\n",
    "# a. file: A text file that contains the WhatsApp chat conversation\n",
    "# b. date: A date of interest DD/MM/YYYY format.\n",
    "\n",
    "messages = []\n",
    "def conversation_by_date(file, date):\n",
    "    fhand = open('chatfile.txt', encoding='utf-8')\n",
    "    flag = False\n",
    "    content = ''\n",
    "    for line in fhand:\n",
    "        line = line.rstrip()\n",
    "        data = validate(line)\n",
    "        if line and data['remark']!='msg continuation':\n",
    "            if (flag == True):\n",
    "                messages.append(content)\n",
    "                flag = False\n",
    "                content = ''\n",
    "            if (data['remark'] == 'computerized msg' or data['msg_date'] != date):\n",
    "                continue\n",
    "            content += line\n",
    "            flag = True\n",
    "        else:\n",
    "            if (line and flag and data['remark']=='msg continuation'):\n",
    "                content += ' ' + line\n",
    "\n",
    "inp = input('Please enter the date in appropriate format(dd/mm/yyyy) : ')\n",
    "conversation_by_date('chatfile.txt', inp) \n",
    "\n",
    "if (not len(messages)):\n",
    "    print('Oops, Kindly check(invalid input or 0 entries for selected date)')\n",
    "else:\n",
    "    for i in messages:\n",
    "        print(i)"
   ]
  },
  {
   "cell_type": "code",
   "execution_count": null,
   "id": "990334c4",
   "metadata": {
    "id": "990334c4"
   },
   "outputs": [],
   "source": [
    "# 3. Design a function named conversation_by_person(file, person)that will help us to\n",
    "# extract all the posts done by a particular person. As shown, this function should take two arguments:\n",
    "# a. file: A text file that contains the WhatsApp chat conversation (10 marks)\n",
    "# b. person: A person of interest\n",
    "\n",
    "messages = []\n",
    "def conversation_by_person(file, person):\n",
    "    fhand = open('chatfile.txt', encoding='utf-8')\n",
    "    flag = False\n",
    "    content = ''\n",
    "    for line in fhand:\n",
    "        line = line.rstrip()\n",
    "        data = validate(line)\n",
    "        if line and data['remark']!='msg continuation':\n",
    "            if (flag == True):\n",
    "                messages.append(content)\n",
    "                flag = False\n",
    "                content = ''\n",
    "            if (data['remark'] == 'computerized msg' or data['name'] != person):\n",
    "                continue\n",
    "            content += line\n",
    "            flag = True\n",
    "        else:\n",
    "            if (line and flag and data['remark']=='msg continuation'):\n",
    "                content += ' ' + line\n",
    "\n",
    "inp = input('Please enter the name of the person(Exact match with dataset) : ')\n",
    "conversation_by_person('chatfile.txt', inp) \n",
    "\n",
    "if (not len(messages)):\n",
    "    print('Oops, Kindly check(invalid input or 0 entries for selected person)')\n",
    "else:\n",
    "    for i in messages:\n",
    "        print(i)"
   ]
  },
  {
   "cell_type": "code",
   "execution_count": null,
   "id": "cc14bcd3",
   "metadata": {
    "id": "cc14bcd3"
   },
   "outputs": [],
   "source": [
    "# 4. Which part of the day (AM or PM) does this group experience most conversation?\n",
    "\n",
    "fhand = open('chatfile.txt', encoding='utf-8')\n",
    "pm_count=0\n",
    "am_count=0\n",
    "for line in fhand:\n",
    "    line = line.rstrip()\n",
    "    data = validate(line)\n",
    "    if line and data['remark']=='starting msg':\n",
    "        if \"pm\" in data['msg_time']:\n",
    "            pm_count+=1\n",
    "        if \"am\" in data['msg_time']:\n",
    "            am_count+=1\n",
    "print(\"pm_count=\",pm_count,\"am_count=\",am_count)\n",
    "if (am_count>pm_count):\n",
    "    print(\"This group experiences most conversations in morning (am)!\")\n",
    "else:\n",
    "    print(\"This group experiences most conversations in evening (pm)!\")"
   ]
  },
  {
   "cell_type": "code",
   "execution_count": null,
   "id": "3a556dd9",
   "metadata": {
    "id": "3a556dd9"
   },
   "outputs": [],
   "source": [
    "# 5. Find the frequency distribution of the hours…? \n",
    "\n",
    "fhand = open('chatfile.txt', encoding='utf-8')\n",
    "Members={}\n",
    "for line in fhand:\n",
    "    line = line.rstrip()\n",
    "    data = validate(line)\n",
    "    if line and data['remark']=='starting msg':    \n",
    "        if \"am\" in data['msg_time']:\n",
    "            time=data['msg_time'].split(':')[0]+\"am\"\n",
    "            Members[time] = Members.get(time,0) + 1\n",
    "        elif \"pm\" in data['msg_time']:\n",
    "            time=data['msg_time'].split(':')[0]+\"pm\"\n",
    "            Members[time] = Members.get(time,0) + 1\n",
    "print(Members)"
   ]
  },
  {
   "cell_type": "code",
   "execution_count": null,
   "id": "a82e740e",
   "metadata": {
    "id": "a82e740e"
   },
   "outputs": [],
   "source": [
    "# 6. Design a function named avg_length_by_person(file, person)that will help us to get the\n",
    "# average length of the messages posted by a particular person. As shown, this function should take two\n",
    "# arguments: (10 marks)\n",
    "# a. file: A text file that contains the WhatsApp chat conversation\n",
    "# b. person: A person of interest\n",
    "\n",
    "messages = []\n",
    "def conversation_by_person(file, person):\n",
    "    fhand = open('chatfile.txt', encoding='utf-8')\n",
    "    flag = False\n",
    "    content = ''\n",
    "    for line in fhand:\n",
    "        line = line.rstrip()\n",
    "        data = validate(line)\n",
    "        if line and data['remark']!='msg continuation':\n",
    "            if (flag == True):\n",
    "                messages.append(content)\n",
    "                flag = False\n",
    "                content = ''\n",
    "            if (data['remark'] == 'computerized msg' or data['name'] != person):\n",
    "                continue\n",
    "            content += data['message']\n",
    "            flag = True\n",
    "        else:\n",
    "            if (line and flag and data['remark']=='msg continuation'):\n",
    "                content += ' ' + line\n",
    "                \n",
    "inp = input('Please enter the name of the person(Exact match with dataset) : ')\n",
    "conversation_by_person('chatfile.txt', inp) \n",
    "\n",
    "if (not len(messages)):\n",
    "    print('Oops, Kindly check(invalid input or 0 entries for selected person)')\n",
    "else:  \n",
    "    total = 0\n",
    "    for msg in messages:\n",
    "        total += len(msg)\n",
    "    avg = round(total/len(messages))\n",
    "    print(f'The average message length by {inp} is {avg}')"
   ]
  }
 ],
 "metadata": {
  "colab": {
   "collapsed_sections": [],
   "provenance": []
  },
  "kernelspec": {
   "display_name": "Python 3 (ipykernel)",
   "language": "python",
   "name": "python3"
  },
  "language_info": {
   "codemirror_mode": {
    "name": "ipython",
    "version": 3
   },
   "file_extension": ".py",
   "mimetype": "text/x-python",
   "name": "python",
   "nbconvert_exporter": "python",
   "pygments_lexer": "ipython3",
   "version": "3.7.6"
  }
 },
 "nbformat": 4,
 "nbformat_minor": 5
}
